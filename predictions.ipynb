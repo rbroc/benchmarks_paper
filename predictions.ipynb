{
 "metadata": {
  "language_info": {
   "codemirror_mode": {
    "name": "ipython",
    "version": 3
   },
   "file_extension": ".py",
   "mimetype": "text/x-python",
   "name": "python",
   "nbconvert_exporter": "python",
   "pygments_lexer": "ipython3",
   "version": 3
  },
  "orig_nbformat": 2,
  "kernelspec": {
   "name": "python_defaultSpec_1597237266597",
   "display_name": "Python 3.7.4 64-bit ('base': conda)"
  }
 },
 "nbformat": 4,
 "nbformat_minor": 2,
 "cells": [
  {
   "cell_type": "markdown",
   "metadata": {},
   "source": [
    "# Many Labs re-analysis"
   ]
  },
  {
   "cell_type": "code",
   "execution_count": 1,
   "metadata": {},
   "outputs": [],
   "source": [
    "import pandas as pd\n",
    "import numpy as np \n",
    "import seaborn as sns\n",
    "import math\n",
    "import statsmodels.api as sm\n",
    "from sklearn.linear_model import LinearRegression, LogisticRegression\n",
    "from sklearn.model_selection import GroupKFold, cross_validate"
   ]
  },
  {
   "cell_type": "code",
   "execution_count": 2,
   "metadata": {},
   "outputs": [],
   "source": [
    "pd.set_option('display.float_format', lambda x: '%.5f' % x)"
   ]
  },
  {
   "cell_type": "markdown",
   "metadata": {},
   "source": [
    "### Read in the dataset "
   ]
  },
  {
   "cell_type": "code",
   "execution_count": 3,
   "metadata": {
    "tags": []
   },
   "outputs": [],
   "source": [
    "df = pd.read_csv('clean_dataset.txt', sep='\\t')"
   ]
  },
  {
   "cell_type": "markdown",
   "metadata": {},
   "source": [
    "### Define useful functions"
   ]
  },
  {
   "cell_type": "markdown",
   "metadata": {},
   "source": [
    "1)  Define function to compute Cohen's d and standardized mean difference"
   ]
  },
  {
   "cell_type": "code",
   "execution_count": 4,
   "metadata": {},
   "outputs": [],
   "source": [
    "def compute_metrics(out_name, group_name, levels):\n",
    "    ''' Returns cohen\\'s d and standardized mean difference for anchoring studies'''\n",
    "    # Subset relevant data \n",
    "    cond_1 = df[out_name][df[group_name] == levels[0]]\n",
    "    cond_2= df[out_name][df[group_name] == levels[1]]\n",
    "    # Compute metrics \n",
    "    m1 = cond_1.mean()\n",
    "    m2 = cond_2.mean()\n",
    "    stdev = df[out_name].std()\n",
    "    n1 = cond_1.notnull().sum()\n",
    "    n2 = cond_2.notnull().sum()\n",
    "    # Cohen's d\n",
    "    pool_std1 = (n1 - 1) * cond_1.std()**2\n",
    "    pool_std2 = (n2 - 1) * cond_2.std()**2\n",
    "    d = (m2 - m1) / math.sqrt((pool_std1 + pool_std2)/(n1 + n2 - 2))\n",
    "    # Standardized difference\n",
    "    stdmdiff = m1 - m2 / stdev\n",
    "    return d, stdmdiff"
   ]
  },
  {
   "cell_type": "markdown",
   "metadata": {},
   "source": [
    "2) Define function to split data into X and y based on IV and DV column names"
   ]
  },
  {
   "cell_type": "code",
   "execution_count": null,
   "metadata": {},
   "outputs": [],
   "source": [
    "def split_data(group_col, dv_col):\n",
    "    X = df_stats[group_col][df_stats[dv_col].isnull() == False].dropna().values.reshape(-1,1)\n",
    "    y = df_stats[dv_col][df_stats[group_col].isnull() == False].dropna().values\n",
    "    grp = df_stats['sample'][(df_stats[group_col].isnull() == False) & (df_stats[dv_col].isnull() == False)]\n",
    "    return X, y, grp"
   ]
  },
  {
   "cell_type": "markdown",
   "metadata": {},
   "source": [
    "3) Define function to fit OLS or logistic regression models"
   ]
  },
  {
   "cell_type": "code",
   "execution_count": null,
   "metadata": {},
   "outputs": [],
   "source": [
    "\n",
    "def fit_model(group_col, dv_col, type='reg'):\n",
    "    X, y, grp = split_data(group_col, dv_col)\n",
    "    X2 = sm.add_constant(X)\n",
    "    if type =='reg':\n",
    "        est = sm.OLS(y, X2)\n",
    "    elif type == 'class':\n",
    "        est = sm.Logit(y, X2)\n",
    "    m = est.fit()\n",
    "    if type == 'reg':\n",
    "        outs = (np.nan, m.rsquared, m.params[1], m.pvalues[1])\n",
    "    else:\n",
    "        acc = np.diag(m.pred_table()).sum() / m.pred_table().sum()\n",
    "        outs = (acc, np.nan, m.params[1], m.pvalues[1])\n",
    "    return outs"
   ]
  },
  {
   "cell_type": "markdown",
   "metadata": {},
   "source": [
    "### Preprocess data"
   ]
  },
  {
   "cell_type": "markdown",
   "metadata": {},
   "source": [
    "Recode categorical variables"
   ]
  },
  {
   "cell_type": "code",
   "execution_count": 5,
   "metadata": {},
   "outputs": [],
   "source": [
    "df['allowedforbidden_bin'] = df['allowedforbidden'].map({'YES':1, 'NO':0})\n",
    "df['gainlossgroup'] = df['gainlossgroup'].map({'People will die':'die', 'People will be saved':'saved'})\n",
    "df['gainlossDV_bin'] = df['gainlossDV'].map({'chose program with exact outcome':0, 'chose program with probability outcome':1})\n",
    "df['scalesgroup'] = df['scalesgroup'].map({'high category scale':'high', 'low category scale':'low'})\n",
    "df['scales_bin'] = df['scales'].map({'less than 2 1/2 hrs':0, 'more than 2 1/2 hrs':1})\n",
    "df['reciprocityus_bin'] = df['reciprocityus'].map({'yes':1, 'no':0})"
   ]
  },
  {
   "cell_type": "markdown",
   "metadata": {},
   "source": [
    "Make lists with names of DV columns in dataframe and name of IV in dataframe"
   ]
  },
  {
   "cell_type": "code",
   "execution_count": 6,
   "metadata": {},
   "outputs": [],
   "source": [
    "dvs = ['anchoring' + str(i) for i in range(1,5)] + ['allowedforbidden_bin', 'gambfalDV', 'gainlossDV_bin','d_art', 'scales_bin', 'quote', 'reciprocityus_bin','sunkDV', 'Imagineddv', 'flagdv', 'Sysjust']\n",
    "grps = ['anch' + str(i) + 'group' for i in range(1,5)] + ['allowedforbiddenGroup', 'gambfalgroup', 'gainlossgroup', 'sex', 'scalesgroup', 'quoteGroup', 'reciprocitygroup', 'sunkgroup', 'ContactGroup', 'flagGroup', 'MoneyGroup']\n"
   ]
  },
  {
   "cell_type": "markdown",
   "metadata": {},
   "source": [
    "Add list coding for levels for each IV (all IVs are categorical)"
   ]
  },
  {
   "cell_type": "code",
   "execution_count": null,
   "metadata": {},
   "outputs": [],
   "source": [
    "levels = [['lowanchor', 'highanchor']] * 4 + [['allowed', 'forbidden'], ['two6', 'three6'], ['die', 'saved'], ['m', 'f'], ['high', 'low'], ['liked source', 'disliked source'], ['Asked first', 'Asked second'], ['paid', 'free'], ['Control group', 'Contact group'], ['no prime', 'flag prime'], ['Control group', 'Money priming group']]"
   ]
  },
  {
   "cell_type": "markdown",
   "metadata": {},
   "source": [
    "Add coding for regression vs. classification problem"
   ]
  },
  {
   "cell_type": "code",
   "execution_count": null,
   "metadata": {},
   "outputs": [],
   "source": [
    "reg_vs_class = ['reg','reg','reg','reg','class','reg','class','reg','class','reg','class','reg','reg','reg','reg']"
   ]
  },
  {
   "cell_type": "markdown",
   "metadata": {},
   "source": [
    "Add some interpretable information on studies and DVs"
   ]
  },
  {
   "cell_type": "code",
   "execution_count": 7,
   "metadata": {},
   "outputs": [],
   "source": [
    "dvs_explain = ['SF-NYC distance', 'Pop. Chicago', 'Height Mt. Everest', 'Babies born per day', 'Binary', 'Numer of times dice rolled', 'Binary', 'IAT score', 'Binary', 'Agreement with quote (1-9)', 'Binary', 'Likelihood to attend game (1-9)', 'Aggregate willingness to interact (1-9)', 'Aggregate political conservatism (1-7)', 'Aggregate system justification (1-7)']\n",
    "effect_names = ['anchoringNY', 'anchoringChicago', 'anchoringMtEverest', 'anchoringBabies', 'allowedforbidden', 'gamblersfallacy', 'gainlossframing', 'mathattitudes', 'low/high scales', 'quoteattribution', 'reciprocity', 'sunkcost', 'imaginedcontact', 'flagpriming', 'currencypriming']"
   ]
  },
  {
   "cell_type": "markdown",
   "metadata": {},
   "source": [
    "### Compute Cohen's d and standardized mean difference (to make sure we can reproduce estimates from Table 2 in the paper)\n",
    "Note that we are not using rank-transformed DVs for anchoring (so to keep interpretability of MSE values later on, so those values will not be identical)"
   ]
  },
  {
   "cell_type": "code",
   "execution_count": 8,
   "metadata": {
    "tags": []
   },
   "outputs": [],
   "source": [
    "names, cohensds, stdmeandiffs = [], [], []\n",
    "for idx in range(len(dvs)):\n",
    "    names.append(dvs[idx])\n",
    "    d, smdiff = compute_metrics(dvs[idx], grps[idx], levels[idx])\n",
    "    cohensds.append(abs(d))\n",
    "    stdmeandiffs.append(abs(smdiff))"
   ]
  },
  {
   "cell_type": "markdown",
   "metadata": {},
   "source": [
    "### Also compute correlations"
   ]
  },
  {
   "cell_type": "code",
   "execution_count": 9,
   "metadata": {
    "tags": []
   },
   "outputs": [],
   "source": [
    "cors = []\n",
    "df_stats = df.copy()\n",
    "for idx in range(len(dvs)):\n",
    "    df_stats[grps[idx]] = df_stats[grps[idx]].map({levels[idx][0]: 0,\n",
    "                                                   levels[idx][1]: 1})\n",
    "    cval = df_stats[[dvs[idx], grps[idx]]].corr().iloc[0,1]\n",
    "    cors.append(cval)"
   ]
  },
  {
   "cell_type": "markdown",
   "metadata": {},
   "source": [
    "Add info to dataset and visualize"
   ]
  },
  {
   "cell_type": "code",
   "execution_count": 10,
   "metadata": {},
   "outputs": [
    {
     "output_type": "display_data",
     "data": {
      "text/plain": "                effect  cohensd  std_mean_diff  pearsons_r problem_type\n0          anchoringNY  1.15905     2847.56614     0.50131          reg\n1     anchoringChicago  1.77999  1033554.90135     0.66481          reg\n2   anchoringMtEverest  2.29785    11846.76164     0.75431          reg\n3      anchoringBabies  2.18582     3202.95080     0.73748          reg\n4     allowedforbidden  1.96363        0.61604    -0.70064        class\n5      gamblersfallacy  0.62590        0.74034     0.29740          reg\n6      gainlossframing  0.59908        0.09183    -0.28697        class\n7        mathattitudes  0.53339        0.78257     0.24199          reg\n8      low/high scales  0.49686        0.04829    -0.24092        class\n9     quoteattribution  0.32167        3.53730    -0.15877          reg\n10         reciprocity  0.29691        1.05601     0.14684        class\n11            sunkcost  0.27229        4.62568    -0.13488          reg\n12     imaginedcontact  0.12698        2.09677     0.06337          reg\n13         flagpriming  0.02818        0.00356     0.01409          reg\n14     currencypriming  0.01979        0.01380    -0.00990          reg",
      "text/html": "<div>\n<style scoped>\n    .dataframe tbody tr th:only-of-type {\n        vertical-align: middle;\n    }\n\n    .dataframe tbody tr th {\n        vertical-align: top;\n    }\n\n    .dataframe thead th {\n        text-align: right;\n    }\n</style>\n<table border=\"1\" class=\"dataframe\">\n  <thead>\n    <tr style=\"text-align: right;\">\n      <th></th>\n      <th>effect</th>\n      <th>cohensd</th>\n      <th>std_mean_diff</th>\n      <th>pearsons_r</th>\n      <th>problem_type</th>\n    </tr>\n  </thead>\n  <tbody>\n    <tr>\n      <th>0</th>\n      <td>anchoringNY</td>\n      <td>1.15905</td>\n      <td>2847.56614</td>\n      <td>0.50131</td>\n      <td>reg</td>\n    </tr>\n    <tr>\n      <th>1</th>\n      <td>anchoringChicago</td>\n      <td>1.77999</td>\n      <td>1033554.90135</td>\n      <td>0.66481</td>\n      <td>reg</td>\n    </tr>\n    <tr>\n      <th>2</th>\n      <td>anchoringMtEverest</td>\n      <td>2.29785</td>\n      <td>11846.76164</td>\n      <td>0.75431</td>\n      <td>reg</td>\n    </tr>\n    <tr>\n      <th>3</th>\n      <td>anchoringBabies</td>\n      <td>2.18582</td>\n      <td>3202.95080</td>\n      <td>0.73748</td>\n      <td>reg</td>\n    </tr>\n    <tr>\n      <th>4</th>\n      <td>allowedforbidden</td>\n      <td>1.96363</td>\n      <td>0.61604</td>\n      <td>-0.70064</td>\n      <td>class</td>\n    </tr>\n    <tr>\n      <th>5</th>\n      <td>gamblersfallacy</td>\n      <td>0.62590</td>\n      <td>0.74034</td>\n      <td>0.29740</td>\n      <td>reg</td>\n    </tr>\n    <tr>\n      <th>6</th>\n      <td>gainlossframing</td>\n      <td>0.59908</td>\n      <td>0.09183</td>\n      <td>-0.28697</td>\n      <td>class</td>\n    </tr>\n    <tr>\n      <th>7</th>\n      <td>mathattitudes</td>\n      <td>0.53339</td>\n      <td>0.78257</td>\n      <td>0.24199</td>\n      <td>reg</td>\n    </tr>\n    <tr>\n      <th>8</th>\n      <td>low/high scales</td>\n      <td>0.49686</td>\n      <td>0.04829</td>\n      <td>-0.24092</td>\n      <td>class</td>\n    </tr>\n    <tr>\n      <th>9</th>\n      <td>quoteattribution</td>\n      <td>0.32167</td>\n      <td>3.53730</td>\n      <td>-0.15877</td>\n      <td>reg</td>\n    </tr>\n    <tr>\n      <th>10</th>\n      <td>reciprocity</td>\n      <td>0.29691</td>\n      <td>1.05601</td>\n      <td>0.14684</td>\n      <td>class</td>\n    </tr>\n    <tr>\n      <th>11</th>\n      <td>sunkcost</td>\n      <td>0.27229</td>\n      <td>4.62568</td>\n      <td>-0.13488</td>\n      <td>reg</td>\n    </tr>\n    <tr>\n      <th>12</th>\n      <td>imaginedcontact</td>\n      <td>0.12698</td>\n      <td>2.09677</td>\n      <td>0.06337</td>\n      <td>reg</td>\n    </tr>\n    <tr>\n      <th>13</th>\n      <td>flagpriming</td>\n      <td>0.02818</td>\n      <td>0.00356</td>\n      <td>0.01409</td>\n      <td>reg</td>\n    </tr>\n    <tr>\n      <th>14</th>\n      <td>currencypriming</td>\n      <td>0.01979</td>\n      <td>0.01380</td>\n      <td>-0.00990</td>\n      <td>reg</td>\n    </tr>\n  </tbody>\n</table>\n</div>"
     },
     "metadata": {}
    }
   ],
   "source": [
    "summary = pd.DataFrame(list(zip(effect_names, cohensds, stdmeandiffs, cors, reg_vs_class)), \n",
    "                       columns=['effect', 'cohensd', 'std_mean_diff', 'pearsons_r', 'problem_type']) \n",
    "display(summary)"
   ]
  },
  {
   "cell_type": "markdown",
   "metadata": {},
   "source": [
    "### Run OLS or Logistic Regression (IVs / DVs only) for all effects"
   ]
  },
  {
   "cell_type": "code",
   "execution_count": 14,
   "metadata": {
    "tags": []
   },
   "outputs": [
    {
     "output_type": "stream",
     "name": "stdout",
     "text": "Optimization terminated successfully.\n         Current function value: 0.402598\n         Iterations 6\nOptimization terminated successfully.\n         Current function value: 0.650599\n         Iterations 4\nOptimization terminated successfully.\n         Current function value: 0.401718\n         Iterations 7\nOptimization terminated successfully.\n         Current function value: 0.595776\n         Iterations 5\n"
    }
   ],
   "source": [
    "r2_scores = []\n",
    "perc_acc = []\n",
    "coefs = []\n",
    "pvals = []\n",
    "\n",
    "# Fit for anchoring effects\n",
    "for idx in range(len(grps)):\n",
    "    acc, r2, par, pval = fit_model(grps[idx], dvs[idx], type=reg_vs_class[idx])\n",
    "    perc_acc.append(acc)\n",
    "    r2_scores.append(r2)\n",
    "    coefs.append(par)\n",
    "    pvals.append(pval)"
   ]
  },
  {
   "cell_type": "markdown",
   "metadata": {},
   "source": [
    "Add to summary df and display"
   ]
  },
  {
   "cell_type": "code",
   "execution_count": 15,
   "metadata": {},
   "outputs": [
    {
     "output_type": "display_data",
     "data": {
      "text/plain": "                effect  cohensd  std_mean_diff  pearsons_r problem_type  \\\n0          anchoringNY  1.15905     2847.56614     0.50131          reg   \n1     anchoringChicago  1.77999  1033554.90135     0.66481          reg   \n2   anchoringMtEverest  2.29785    11846.76164     0.75431          reg   \n3      anchoringBabies  2.18582     3202.95080     0.73748          reg   \n4     allowedforbidden  1.96363        0.61604    -0.70064        class   \n5      gamblersfallacy  0.62590        0.74034     0.29740          reg   \n6      gainlossframing  0.59908        0.09183    -0.28697        class   \n7        mathattitudes  0.53339        0.78257     0.24199          reg   \n8      low/high scales  0.49686        0.04829    -0.24092        class   \n9     quoteattribution  0.32167        3.53730    -0.15877          reg   \n10         reciprocity  0.29691        1.05601     0.14684        class   \n11            sunkcost  0.27229        4.62568    -0.13488          reg   \n12     imaginedcontact  0.12698        2.09677     0.06337          reg   \n13         flagpriming  0.02818        0.00356     0.01409          reg   \n14     currencypriming  0.01979        0.01380    -0.00990          reg   \n\n        reg_coef  reg_perc_acc  reg_r2  reg_pval  \n0     1143.20716           nan 0.25131   0.00000  \n1  1964484.41985           nan 0.44198   0.00000  \n2    22652.04180           nan 0.56898   0.00000  \n3    23497.38255           nan 0.54387   0.00000  \n4       -3.72006       0.84584     nan   0.00000  \n5        1.69587           nan 0.08845   0.00000  \n6       -1.18267       0.64312     nan   0.00000  \n7        0.25912           nan 0.05856   0.00000  \n8       -1.44210       0.84472     nan   0.00000  \n9       -0.69527           nan 0.02521   0.00000  \n10       0.65453       0.70491     nan   0.00000  \n11      -0.60626           nan 0.01819   0.00000  \n12       0.24608           nan 0.00402   0.00000  \n13       0.02846           nan 0.00020   0.26526  \n14      -0.01961           nan 0.00010   0.43105  ",
      "text/html": "<div>\n<style scoped>\n    .dataframe tbody tr th:only-of-type {\n        vertical-align: middle;\n    }\n\n    .dataframe tbody tr th {\n        vertical-align: top;\n    }\n\n    .dataframe thead th {\n        text-align: right;\n    }\n</style>\n<table border=\"1\" class=\"dataframe\">\n  <thead>\n    <tr style=\"text-align: right;\">\n      <th></th>\n      <th>effect</th>\n      <th>cohensd</th>\n      <th>std_mean_diff</th>\n      <th>pearsons_r</th>\n      <th>problem_type</th>\n      <th>reg_coef</th>\n      <th>reg_perc_acc</th>\n      <th>reg_r2</th>\n      <th>reg_pval</th>\n    </tr>\n  </thead>\n  <tbody>\n    <tr>\n      <th>0</th>\n      <td>anchoringNY</td>\n      <td>1.15905</td>\n      <td>2847.56614</td>\n      <td>0.50131</td>\n      <td>reg</td>\n      <td>1143.20716</td>\n      <td>nan</td>\n      <td>0.25131</td>\n      <td>0.00000</td>\n    </tr>\n    <tr>\n      <th>1</th>\n      <td>anchoringChicago</td>\n      <td>1.77999</td>\n      <td>1033554.90135</td>\n      <td>0.66481</td>\n      <td>reg</td>\n      <td>1964484.41985</td>\n      <td>nan</td>\n      <td>0.44198</td>\n      <td>0.00000</td>\n    </tr>\n    <tr>\n      <th>2</th>\n      <td>anchoringMtEverest</td>\n      <td>2.29785</td>\n      <td>11846.76164</td>\n      <td>0.75431</td>\n      <td>reg</td>\n      <td>22652.04180</td>\n      <td>nan</td>\n      <td>0.56898</td>\n      <td>0.00000</td>\n    </tr>\n    <tr>\n      <th>3</th>\n      <td>anchoringBabies</td>\n      <td>2.18582</td>\n      <td>3202.95080</td>\n      <td>0.73748</td>\n      <td>reg</td>\n      <td>23497.38255</td>\n      <td>nan</td>\n      <td>0.54387</td>\n      <td>0.00000</td>\n    </tr>\n    <tr>\n      <th>4</th>\n      <td>allowedforbidden</td>\n      <td>1.96363</td>\n      <td>0.61604</td>\n      <td>-0.70064</td>\n      <td>class</td>\n      <td>-3.72006</td>\n      <td>0.84584</td>\n      <td>nan</td>\n      <td>0.00000</td>\n    </tr>\n    <tr>\n      <th>5</th>\n      <td>gamblersfallacy</td>\n      <td>0.62590</td>\n      <td>0.74034</td>\n      <td>0.29740</td>\n      <td>reg</td>\n      <td>1.69587</td>\n      <td>nan</td>\n      <td>0.08845</td>\n      <td>0.00000</td>\n    </tr>\n    <tr>\n      <th>6</th>\n      <td>gainlossframing</td>\n      <td>0.59908</td>\n      <td>0.09183</td>\n      <td>-0.28697</td>\n      <td>class</td>\n      <td>-1.18267</td>\n      <td>0.64312</td>\n      <td>nan</td>\n      <td>0.00000</td>\n    </tr>\n    <tr>\n      <th>7</th>\n      <td>mathattitudes</td>\n      <td>0.53339</td>\n      <td>0.78257</td>\n      <td>0.24199</td>\n      <td>reg</td>\n      <td>0.25912</td>\n      <td>nan</td>\n      <td>0.05856</td>\n      <td>0.00000</td>\n    </tr>\n    <tr>\n      <th>8</th>\n      <td>low/high scales</td>\n      <td>0.49686</td>\n      <td>0.04829</td>\n      <td>-0.24092</td>\n      <td>class</td>\n      <td>-1.44210</td>\n      <td>0.84472</td>\n      <td>nan</td>\n      <td>0.00000</td>\n    </tr>\n    <tr>\n      <th>9</th>\n      <td>quoteattribution</td>\n      <td>0.32167</td>\n      <td>3.53730</td>\n      <td>-0.15877</td>\n      <td>reg</td>\n      <td>-0.69527</td>\n      <td>nan</td>\n      <td>0.02521</td>\n      <td>0.00000</td>\n    </tr>\n    <tr>\n      <th>10</th>\n      <td>reciprocity</td>\n      <td>0.29691</td>\n      <td>1.05601</td>\n      <td>0.14684</td>\n      <td>class</td>\n      <td>0.65453</td>\n      <td>0.70491</td>\n      <td>nan</td>\n      <td>0.00000</td>\n    </tr>\n    <tr>\n      <th>11</th>\n      <td>sunkcost</td>\n      <td>0.27229</td>\n      <td>4.62568</td>\n      <td>-0.13488</td>\n      <td>reg</td>\n      <td>-0.60626</td>\n      <td>nan</td>\n      <td>0.01819</td>\n      <td>0.00000</td>\n    </tr>\n    <tr>\n      <th>12</th>\n      <td>imaginedcontact</td>\n      <td>0.12698</td>\n      <td>2.09677</td>\n      <td>0.06337</td>\n      <td>reg</td>\n      <td>0.24608</td>\n      <td>nan</td>\n      <td>0.00402</td>\n      <td>0.00000</td>\n    </tr>\n    <tr>\n      <th>13</th>\n      <td>flagpriming</td>\n      <td>0.02818</td>\n      <td>0.00356</td>\n      <td>0.01409</td>\n      <td>reg</td>\n      <td>0.02846</td>\n      <td>nan</td>\n      <td>0.00020</td>\n      <td>0.26526</td>\n    </tr>\n    <tr>\n      <th>14</th>\n      <td>currencypriming</td>\n      <td>0.01979</td>\n      <td>0.01380</td>\n      <td>-0.00990</td>\n      <td>reg</td>\n      <td>-0.01961</td>\n      <td>nan</td>\n      <td>0.00010</td>\n      <td>0.43105</td>\n    </tr>\n  </tbody>\n</table>\n</div>"
     },
     "metadata": {}
    }
   ],
   "source": [
    "summary['reg_coef'] = coefs\n",
    "summary['reg_perc_acc'] = perc_acc\n",
    "summary['reg_r2'] = r2_scores\n",
    "summary['reg_pval'] = pvals\n",
    "display(summary)"
   ]
  },
  {
   "cell_type": "markdown",
   "metadata": {},
   "source": [
    "### Now try regression with a bunch of random variables\n",
    "(First recode the variables, then run regression)"
   ]
  },
  {
   "cell_type": "code",
   "execution_count": 16,
   "metadata": {},
   "outputs": [],
   "source": [
    "df_stats['us_or_international'] = df_stats['us_or_international'].map({'US':0, 'International':1})\n",
    "df_stats['lab_or_online'] = df_stats['lab_or_online'].map({'In-lab':0, 'Online':1})"
   ]
  },
  {
   "cell_type": "code",
   "execution_count": 28,
   "metadata": {
    "tags": []
   },
   "outputs": [
    {
     "output_type": "stream",
     "name": "stdout",
     "text": "Optimization terminated successfully.\n         Current function value: 0.678547\n         Iterations 4\nOptimization terminated successfully.\n         Current function value: 0.691332\n         Iterations 4\nOptimization terminated successfully.\n         Current function value: 0.423837\n         Iterations 6\nOptimization terminated successfully.\n         Current function value: 0.595173\n         Iterations 6\nOptimization terminated successfully.\n         Current function value: 0.677783\n         Iterations 4\nOptimization terminated successfully.\n         Current function value: 0.692039\n         Iterations 3\nOptimization terminated successfully.\n         Current function value: 0.431521\n         Iterations 6\nOptimization terminated successfully.\n         Current function value: 0.600329\n         Iterations 5\nOptimization terminated successfully.\n         Current function value: 0.678530\n         Iterations 4\nOptimization terminated successfully.\n         Current function value: 0.691825\n         Iterations 4\nOptimization terminated successfully.\n         Current function value: 0.429719\n         Iterations 6\nOptimization terminated successfully.\n         Current function value: 0.598778\n         Iterations 5\nOptimization terminated successfully.\n         Current function value: 0.678539\n         Iterations 4\nOptimization terminated successfully.\n         Current function value: 0.691760\n         Iterations 3\nOptimization terminated successfully.\n         Current function value: 0.425448\n         Iterations 6\nOptimization terminated successfully.\n         Current function value: 0.604896\n         Iterations 5\n"
    }
   ],
   "source": [
    "random_cols = ['age', 'sex', 'us_or_international', 'lab_or_online']\n",
    "random_r2, random_par, random_pval, random_perc_acc = [], [], [], []\n",
    "for c in random_cols:\n",
    "    for idx in range(len(grps)):\n",
    "        perc_acc, r2, par, pval = fit_model(c, dvs[idx], reg_vs_class[idx])\n",
    "        random_perc_acc.append(perc_acc)\n",
    "        random_r2.append(r2)\n",
    "        random_par.append(par)\n",
    "        random_pval.append(pval)\n",
    "random_idx = list(np.repeat(random_cols, len(grps)))"
   ]
  },
  {
   "cell_type": "markdown",
   "metadata": {},
   "source": [
    "Visualize results"
   ]
  },
  {
   "cell_type": "code",
   "execution_count": 29,
   "metadata": {},
   "outputs": [
    {
     "output_type": "display_data",
     "data": {
      "text/plain": "              random_IV                    DV  perc_acc      r2          coef  \\\n0                   age            anchoring1       nan 0.00089      -2.91655   \n1                   age            anchoring2       nan 0.01022   13289.81245   \n2                   age            anchoring3       nan 0.00019      17.96978   \n3                   age            anchoring4       nan 0.00007      11.68457   \n4                   age  allowedforbidden_bin   0.58503     nan       0.00209   \n5                   age             gambfalDV       nan 0.00013      -0.00288   \n6                   age        gainlossDV_bin   0.51965     nan       0.00815   \n7                   age                 d_art       nan 0.01321       0.00504   \n8                   age            scales_bin   0.84489     nan       0.02691   \n9                   age                 quote       nan 0.00517       0.01388   \n10                  age     reciprocityus_bin   0.70498     nan       0.03350   \n11                  age                sunkDV       nan 0.04110      -0.04024   \n12                  age            Imagineddv       nan 0.00010       0.00172   \n13                  age                flagdv       nan 0.00905      -0.00847   \n14                  age               Sysjust       nan 0.00041      -0.00176   \n15                  sex            anchoring1       nan 0.00595     185.78589   \n16                  sex            anchoring2       nan 0.01364 -368999.16503   \n17                  sex            anchoring3       nan 0.00014    -376.99139   \n18                  sex            anchoring4       nan 0.00000       0.12260   \n19                  sex  allowedforbidden_bin   0.58504     nan      -0.17578   \n20                  sex             gambfalDV       nan 0.00159      -0.24242   \n21                  sex        gainlossDV_bin   0.51924     nan      -0.11590   \n22                  sex                 d_art       nan 0.05856       0.25912   \n23                  sex            scales_bin   0.84485     nan       0.03893   \n24                  sex                 quote       nan 0.00240      -0.22854   \n25                  sex     reciprocityus_bin   0.70506     nan      -0.53821   \n26                  sex                sunkDV       nan 0.00023      -0.07215   \n27                  sex            Imagineddv       nan 0.00229       0.19855   \n28                  sex                flagdv       nan 0.00100      -0.06803   \n29                  sex               Sysjust       nan 0.00577      -0.16062   \n30  us_or_international            anchoring1       nan 0.00674    -246.01260   \n31  us_or_international            anchoring2       nan 0.00259  193174.93579   \n32  us_or_international            anchoring3       nan 0.00137   -1424.47743   \n33  us_or_international            anchoring4       nan 0.00205   -1796.73681   \n34  us_or_international  allowedforbidden_bin   0.58519     nan      -0.03998   \n35  us_or_international             gambfalDV       nan 0.00013      -0.07996   \n36  us_or_international        gainlossDV_bin   0.51969     nan       0.16150   \n37  us_or_international                 d_art       nan 0.00017      -0.01567   \n38  us_or_international            scales_bin   0.84472     nan      -0.46467   \n39  us_or_international                 quote       nan 0.00093      -0.16206   \n40  us_or_international     reciprocityus_bin   0.70491     nan       0.72027   \n41  us_or_international                sunkDV       nan 0.00197       0.24264   \n42  us_or_international            Imagineddv       nan 0.00170       0.19489   \n43  us_or_international                flagdv       nan 0.01864      -0.33565   \n44  us_or_international               Sysjust       nan 0.01698      -0.31407   \n45        lab_or_online            anchoring1       nan 0.00011     -23.90616   \n46        lab_or_online            anchoring2       nan 0.00460  200744.54772   \n47        lab_or_online            anchoring3       nan 0.00283    1600.08962   \n48        lab_or_online            anchoring4       nan 0.00002    -129.90331   \n49        lab_or_online  allowedforbidden_bin   0.58519     nan       0.02799   \n50        lab_or_online             gambfalDV       nan 0.00032      -0.10150   \n51        lab_or_online        gainlossDV_bin   0.51969     nan       0.14027   \n52        lab_or_online                 d_art       nan 0.00080       0.02835   \n53        lab_or_online            scales_bin   0.84472     nan       0.63793   \n54        lab_or_online                 quote       nan 0.00028       0.07281   \n55        lab_or_online     reciprocityus_bin   0.70491     nan       0.25993   \n56        lab_or_online                sunkDV       nan 0.01387      -0.53008   \n57        lab_or_online            Imagineddv       nan 0.00039      -0.07694   \n58        lab_or_online                flagdv       nan 0.00021      -0.02899   \n59        lab_or_online               Sysjust       nan 0.00803      -0.17786   \n\n      pval  \n0  0.02933  \n1  0.00000  \n2  0.30449  \n3  0.53049  \n4  0.35195  \n5  0.38234  \n6  0.00030  \n7  0.00000  \n8  0.00000  \n9  0.00000  \n10 0.00000  \n11 0.00000  \n12 0.42479  \n13 0.00000  \n14 0.10937  \n15 0.00000  \n16 0.00000  \n17 0.37583  \n18 0.99978  \n19 0.00124  \n20 0.00210  \n21 0.03197  \n22 0.00000  \n23 0.61267  \n24 0.00010  \n25 0.00000  \n26 0.23161  \n27 0.00014  \n28 0.01204  \n29 0.00000  \n30 0.00000  \n31 0.00022  \n32 0.00551  \n33 0.00070  \n34 0.52116  \n35 0.37576  \n36 0.00894  \n37 0.31097  \n38 0.00000  \n39 0.01552  \n40 0.00000  \n41 0.00041  \n42 0.00102  \n43 0.00000  \n44 0.00000  \n45 0.44413  \n46 0.00000  \n47 0.00007  \n48 0.76034  \n49 0.58510  \n50 0.16864  \n51 0.00562  \n52 0.02625  \n53 0.00000  \n54 0.18663  \n55 0.00000  \n56 0.00000  \n57 0.11536  \n58 0.25414  \n59 0.00000  ",
      "text/html": "<div>\n<style scoped>\n    .dataframe tbody tr th:only-of-type {\n        vertical-align: middle;\n    }\n\n    .dataframe tbody tr th {\n        vertical-align: top;\n    }\n\n    .dataframe thead th {\n        text-align: right;\n    }\n</style>\n<table border=\"1\" class=\"dataframe\">\n  <thead>\n    <tr style=\"text-align: right;\">\n      <th></th>\n      <th>random_IV</th>\n      <th>DV</th>\n      <th>perc_acc</th>\n      <th>r2</th>\n      <th>coef</th>\n      <th>pval</th>\n    </tr>\n  </thead>\n  <tbody>\n    <tr>\n      <th>0</th>\n      <td>age</td>\n      <td>anchoring1</td>\n      <td>nan</td>\n      <td>0.00089</td>\n      <td>-2.91655</td>\n      <td>0.02933</td>\n    </tr>\n    <tr>\n      <th>1</th>\n      <td>age</td>\n      <td>anchoring2</td>\n      <td>nan</td>\n      <td>0.01022</td>\n      <td>13289.81245</td>\n      <td>0.00000</td>\n    </tr>\n    <tr>\n      <th>2</th>\n      <td>age</td>\n      <td>anchoring3</td>\n      <td>nan</td>\n      <td>0.00019</td>\n      <td>17.96978</td>\n      <td>0.30449</td>\n    </tr>\n    <tr>\n      <th>3</th>\n      <td>age</td>\n      <td>anchoring4</td>\n      <td>nan</td>\n      <td>0.00007</td>\n      <td>11.68457</td>\n      <td>0.53049</td>\n    </tr>\n    <tr>\n      <th>4</th>\n      <td>age</td>\n      <td>allowedforbidden_bin</td>\n      <td>0.58503</td>\n      <td>nan</td>\n      <td>0.00209</td>\n      <td>0.35195</td>\n    </tr>\n    <tr>\n      <th>5</th>\n      <td>age</td>\n      <td>gambfalDV</td>\n      <td>nan</td>\n      <td>0.00013</td>\n      <td>-0.00288</td>\n      <td>0.38234</td>\n    </tr>\n    <tr>\n      <th>6</th>\n      <td>age</td>\n      <td>gainlossDV_bin</td>\n      <td>0.51965</td>\n      <td>nan</td>\n      <td>0.00815</td>\n      <td>0.00030</td>\n    </tr>\n    <tr>\n      <th>7</th>\n      <td>age</td>\n      <td>d_art</td>\n      <td>nan</td>\n      <td>0.01321</td>\n      <td>0.00504</td>\n      <td>0.00000</td>\n    </tr>\n    <tr>\n      <th>8</th>\n      <td>age</td>\n      <td>scales_bin</td>\n      <td>0.84489</td>\n      <td>nan</td>\n      <td>0.02691</td>\n      <td>0.00000</td>\n    </tr>\n    <tr>\n      <th>9</th>\n      <td>age</td>\n      <td>quote</td>\n      <td>nan</td>\n      <td>0.00517</td>\n      <td>0.01388</td>\n      <td>0.00000</td>\n    </tr>\n    <tr>\n      <th>10</th>\n      <td>age</td>\n      <td>reciprocityus_bin</td>\n      <td>0.70498</td>\n      <td>nan</td>\n      <td>0.03350</td>\n      <td>0.00000</td>\n    </tr>\n    <tr>\n      <th>11</th>\n      <td>age</td>\n      <td>sunkDV</td>\n      <td>nan</td>\n      <td>0.04110</td>\n      <td>-0.04024</td>\n      <td>0.00000</td>\n    </tr>\n    <tr>\n      <th>12</th>\n      <td>age</td>\n      <td>Imagineddv</td>\n      <td>nan</td>\n      <td>0.00010</td>\n      <td>0.00172</td>\n      <td>0.42479</td>\n    </tr>\n    <tr>\n      <th>13</th>\n      <td>age</td>\n      <td>flagdv</td>\n      <td>nan</td>\n      <td>0.00905</td>\n      <td>-0.00847</td>\n      <td>0.00000</td>\n    </tr>\n    <tr>\n      <th>14</th>\n      <td>age</td>\n      <td>Sysjust</td>\n      <td>nan</td>\n      <td>0.00041</td>\n      <td>-0.00176</td>\n      <td>0.10937</td>\n    </tr>\n    <tr>\n      <th>15</th>\n      <td>sex</td>\n      <td>anchoring1</td>\n      <td>nan</td>\n      <td>0.00595</td>\n      <td>185.78589</td>\n      <td>0.00000</td>\n    </tr>\n    <tr>\n      <th>16</th>\n      <td>sex</td>\n      <td>anchoring2</td>\n      <td>nan</td>\n      <td>0.01364</td>\n      <td>-368999.16503</td>\n      <td>0.00000</td>\n    </tr>\n    <tr>\n      <th>17</th>\n      <td>sex</td>\n      <td>anchoring3</td>\n      <td>nan</td>\n      <td>0.00014</td>\n      <td>-376.99139</td>\n      <td>0.37583</td>\n    </tr>\n    <tr>\n      <th>18</th>\n      <td>sex</td>\n      <td>anchoring4</td>\n      <td>nan</td>\n      <td>0.00000</td>\n      <td>0.12260</td>\n      <td>0.99978</td>\n    </tr>\n    <tr>\n      <th>19</th>\n      <td>sex</td>\n      <td>allowedforbidden_bin</td>\n      <td>0.58504</td>\n      <td>nan</td>\n      <td>-0.17578</td>\n      <td>0.00124</td>\n    </tr>\n    <tr>\n      <th>20</th>\n      <td>sex</td>\n      <td>gambfalDV</td>\n      <td>nan</td>\n      <td>0.00159</td>\n      <td>-0.24242</td>\n      <td>0.00210</td>\n    </tr>\n    <tr>\n      <th>21</th>\n      <td>sex</td>\n      <td>gainlossDV_bin</td>\n      <td>0.51924</td>\n      <td>nan</td>\n      <td>-0.11590</td>\n      <td>0.03197</td>\n    </tr>\n    <tr>\n      <th>22</th>\n      <td>sex</td>\n      <td>d_art</td>\n      <td>nan</td>\n      <td>0.05856</td>\n      <td>0.25912</td>\n      <td>0.00000</td>\n    </tr>\n    <tr>\n      <th>23</th>\n      <td>sex</td>\n      <td>scales_bin</td>\n      <td>0.84485</td>\n      <td>nan</td>\n      <td>0.03893</td>\n      <td>0.61267</td>\n    </tr>\n    <tr>\n      <th>24</th>\n      <td>sex</td>\n      <td>quote</td>\n      <td>nan</td>\n      <td>0.00240</td>\n      <td>-0.22854</td>\n      <td>0.00010</td>\n    </tr>\n    <tr>\n      <th>25</th>\n      <td>sex</td>\n      <td>reciprocityus_bin</td>\n      <td>0.70506</td>\n      <td>nan</td>\n      <td>-0.53821</td>\n      <td>0.00000</td>\n    </tr>\n    <tr>\n      <th>26</th>\n      <td>sex</td>\n      <td>sunkDV</td>\n      <td>nan</td>\n      <td>0.00023</td>\n      <td>-0.07215</td>\n      <td>0.23161</td>\n    </tr>\n    <tr>\n      <th>27</th>\n      <td>sex</td>\n      <td>Imagineddv</td>\n      <td>nan</td>\n      <td>0.00229</td>\n      <td>0.19855</td>\n      <td>0.00014</td>\n    </tr>\n    <tr>\n      <th>28</th>\n      <td>sex</td>\n      <td>flagdv</td>\n      <td>nan</td>\n      <td>0.00100</td>\n      <td>-0.06803</td>\n      <td>0.01204</td>\n    </tr>\n    <tr>\n      <th>29</th>\n      <td>sex</td>\n      <td>Sysjust</td>\n      <td>nan</td>\n      <td>0.00577</td>\n      <td>-0.16062</td>\n      <td>0.00000</td>\n    </tr>\n    <tr>\n      <th>30</th>\n      <td>us_or_international</td>\n      <td>anchoring1</td>\n      <td>nan</td>\n      <td>0.00674</td>\n      <td>-246.01260</td>\n      <td>0.00000</td>\n    </tr>\n    <tr>\n      <th>31</th>\n      <td>us_or_international</td>\n      <td>anchoring2</td>\n      <td>nan</td>\n      <td>0.00259</td>\n      <td>193174.93579</td>\n      <td>0.00022</td>\n    </tr>\n    <tr>\n      <th>32</th>\n      <td>us_or_international</td>\n      <td>anchoring3</td>\n      <td>nan</td>\n      <td>0.00137</td>\n      <td>-1424.47743</td>\n      <td>0.00551</td>\n    </tr>\n    <tr>\n      <th>33</th>\n      <td>us_or_international</td>\n      <td>anchoring4</td>\n      <td>nan</td>\n      <td>0.00205</td>\n      <td>-1796.73681</td>\n      <td>0.00070</td>\n    </tr>\n    <tr>\n      <th>34</th>\n      <td>us_or_international</td>\n      <td>allowedforbidden_bin</td>\n      <td>0.58519</td>\n      <td>nan</td>\n      <td>-0.03998</td>\n      <td>0.52116</td>\n    </tr>\n    <tr>\n      <th>35</th>\n      <td>us_or_international</td>\n      <td>gambfalDV</td>\n      <td>nan</td>\n      <td>0.00013</td>\n      <td>-0.07996</td>\n      <td>0.37576</td>\n    </tr>\n    <tr>\n      <th>36</th>\n      <td>us_or_international</td>\n      <td>gainlossDV_bin</td>\n      <td>0.51969</td>\n      <td>nan</td>\n      <td>0.16150</td>\n      <td>0.00894</td>\n    </tr>\n    <tr>\n      <th>37</th>\n      <td>us_or_international</td>\n      <td>d_art</td>\n      <td>nan</td>\n      <td>0.00017</td>\n      <td>-0.01567</td>\n      <td>0.31097</td>\n    </tr>\n    <tr>\n      <th>38</th>\n      <td>us_or_international</td>\n      <td>scales_bin</td>\n      <td>0.84472</td>\n      <td>nan</td>\n      <td>-0.46467</td>\n      <td>0.00000</td>\n    </tr>\n    <tr>\n      <th>39</th>\n      <td>us_or_international</td>\n      <td>quote</td>\n      <td>nan</td>\n      <td>0.00093</td>\n      <td>-0.16206</td>\n      <td>0.01552</td>\n    </tr>\n    <tr>\n      <th>40</th>\n      <td>us_or_international</td>\n      <td>reciprocityus_bin</td>\n      <td>0.70491</td>\n      <td>nan</td>\n      <td>0.72027</td>\n      <td>0.00000</td>\n    </tr>\n    <tr>\n      <th>41</th>\n      <td>us_or_international</td>\n      <td>sunkDV</td>\n      <td>nan</td>\n      <td>0.00197</td>\n      <td>0.24264</td>\n      <td>0.00041</td>\n    </tr>\n    <tr>\n      <th>42</th>\n      <td>us_or_international</td>\n      <td>Imagineddv</td>\n      <td>nan</td>\n      <td>0.00170</td>\n      <td>0.19489</td>\n      <td>0.00102</td>\n    </tr>\n    <tr>\n      <th>43</th>\n      <td>us_or_international</td>\n      <td>flagdv</td>\n      <td>nan</td>\n      <td>0.01864</td>\n      <td>-0.33565</td>\n      <td>0.00000</td>\n    </tr>\n    <tr>\n      <th>44</th>\n      <td>us_or_international</td>\n      <td>Sysjust</td>\n      <td>nan</td>\n      <td>0.01698</td>\n      <td>-0.31407</td>\n      <td>0.00000</td>\n    </tr>\n    <tr>\n      <th>45</th>\n      <td>lab_or_online</td>\n      <td>anchoring1</td>\n      <td>nan</td>\n      <td>0.00011</td>\n      <td>-23.90616</td>\n      <td>0.44413</td>\n    </tr>\n    <tr>\n      <th>46</th>\n      <td>lab_or_online</td>\n      <td>anchoring2</td>\n      <td>nan</td>\n      <td>0.00460</td>\n      <td>200744.54772</td>\n      <td>0.00000</td>\n    </tr>\n    <tr>\n      <th>47</th>\n      <td>lab_or_online</td>\n      <td>anchoring3</td>\n      <td>nan</td>\n      <td>0.00283</td>\n      <td>1600.08962</td>\n      <td>0.00007</td>\n    </tr>\n    <tr>\n      <th>48</th>\n      <td>lab_or_online</td>\n      <td>anchoring4</td>\n      <td>nan</td>\n      <td>0.00002</td>\n      <td>-129.90331</td>\n      <td>0.76034</td>\n    </tr>\n    <tr>\n      <th>49</th>\n      <td>lab_or_online</td>\n      <td>allowedforbidden_bin</td>\n      <td>0.58519</td>\n      <td>nan</td>\n      <td>0.02799</td>\n      <td>0.58510</td>\n    </tr>\n    <tr>\n      <th>50</th>\n      <td>lab_or_online</td>\n      <td>gambfalDV</td>\n      <td>nan</td>\n      <td>0.00032</td>\n      <td>-0.10150</td>\n      <td>0.16864</td>\n    </tr>\n    <tr>\n      <th>51</th>\n      <td>lab_or_online</td>\n      <td>gainlossDV_bin</td>\n      <td>0.51969</td>\n      <td>nan</td>\n      <td>0.14027</td>\n      <td>0.00562</td>\n    </tr>\n    <tr>\n      <th>52</th>\n      <td>lab_or_online</td>\n      <td>d_art</td>\n      <td>nan</td>\n      <td>0.00080</td>\n      <td>0.02835</td>\n      <td>0.02625</td>\n    </tr>\n    <tr>\n      <th>53</th>\n      <td>lab_or_online</td>\n      <td>scales_bin</td>\n      <td>0.84472</td>\n      <td>nan</td>\n      <td>0.63793</td>\n      <td>0.00000</td>\n    </tr>\n    <tr>\n      <th>54</th>\n      <td>lab_or_online</td>\n      <td>quote</td>\n      <td>nan</td>\n      <td>0.00028</td>\n      <td>0.07281</td>\n      <td>0.18663</td>\n    </tr>\n    <tr>\n      <th>55</th>\n      <td>lab_or_online</td>\n      <td>reciprocityus_bin</td>\n      <td>0.70491</td>\n      <td>nan</td>\n      <td>0.25993</td>\n      <td>0.00000</td>\n    </tr>\n    <tr>\n      <th>56</th>\n      <td>lab_or_online</td>\n      <td>sunkDV</td>\n      <td>nan</td>\n      <td>0.01387</td>\n      <td>-0.53008</td>\n      <td>0.00000</td>\n    </tr>\n    <tr>\n      <th>57</th>\n      <td>lab_or_online</td>\n      <td>Imagineddv</td>\n      <td>nan</td>\n      <td>0.00039</td>\n      <td>-0.07694</td>\n      <td>0.11536</td>\n    </tr>\n    <tr>\n      <th>58</th>\n      <td>lab_or_online</td>\n      <td>flagdv</td>\n      <td>nan</td>\n      <td>0.00021</td>\n      <td>-0.02899</td>\n      <td>0.25414</td>\n    </tr>\n    <tr>\n      <th>59</th>\n      <td>lab_or_online</td>\n      <td>Sysjust</td>\n      <td>nan</td>\n      <td>0.00803</td>\n      <td>-0.17786</td>\n      <td>0.00000</td>\n    </tr>\n  </tbody>\n</table>\n</div>"
     },
     "metadata": {}
    }
   ],
   "source": [
    "random_df = pd.DataFrame(zip(random_idx, dvs * 7, random_perc_acc, random_r2, random_par, random_pval), columns=['random_IV', 'DV', 'perc_acc', 'r2', 'coef', 'pval'])\n",
    "display(random_df)"
   ]
  },
  {
   "cell_type": "markdown",
   "metadata": {},
   "source": [
    "Find best random predictor (we will use this to compare predictive accuracy based on actual IVs vs. best random IV)"
   ]
  },
  {
   "cell_type": "code",
   "execution_count": 30,
   "metadata": {
    "tags": []
   },
   "outputs": [],
   "source": [
    "random_best, random_best_score = [], []\n",
    "\n",
    "for idx, c in enumerate(random_df.DV.unique()):\n",
    "    sub_df = random_df[random_df['DV'] == c]\n",
    "    if reg_vs_class[idx] == 'reg':\n",
    "        best = sub_df['random_IV'][sub_df['r2'] == sub_df['r2'].max()].values[0]\n",
    "        score = sub_df['r2'].max()\n",
    "    else:\n",
    "        best = sub_df['random_IV'][sub_df['perc_acc'] == sub_df['perc_acc'].max()].values[0]\n",
    "        score = sub_df['perc_acc'].max()\n",
    "    random_best.append(best)\n",
    "    random_best_score.append(score)"
   ]
  },
  {
   "cell_type": "markdown",
   "metadata": {},
   "source": [
    "### Cross-validated prediction\n",
    "How well can we predict, if we run cross-validated linear regression or logistic regression?"
   ]
  },
  {
   "cell_type": "code",
   "execution_count": 41,
   "metadata": {
    "tags": []
   },
   "outputs": [],
   "source": [
    "K = 10\n",
    "cv_mean_r2, cv_mean_mse, cv_mean_acc = [], [], []\n",
    "est_lr = LinearRegression()\n",
    "est_log = LogisticRegression()\n",
    "\n",
    "for idx in range(len(grps)):\n",
    "    gkfolds = GroupKFold(n_splits=K)\n",
    "    X, y, grp = split_data(grps[idx], dvs[idx])\n",
    "    if reg_vs_class[idx] == 'class':\n",
    "        cv_scores = cross_validate(est_log, X, y, grp, cv=gkfolds)\n",
    "        mean_r2 = np.nan\n",
    "        mean_mse = np.nan\n",
    "        perc_acc = cv_scores['test_score'].mean()\n",
    "    else:\n",
    "        cv_scores = cross_validate(est_lr, X, y, grp, cv=gkfolds, \n",
    "                                   scoring=('r2', 'neg_mean_absolute_error'))\n",
    "        mean_r2 = cv_scores['test_r2'].mean()\n",
    "        mean_mse = abs(cv_scores['test_neg_mean_absolute_error']).mean()\n",
    "        perc_acc = np.nan\n",
    "    cv_mean_acc.append(perc_acc)\n",
    "    cv_mean_r2.append(mean_r2)\n",
    "    cv_mean_mse.append(mean_mse)\n",
    "\n",
    "summary['cv_mean_acc'] = cv_mean_acc\n",
    "summary['cv_mean_r2'] = cv_mean_r2\n",
    "summary['cv_mean_mse'] = cv_mean_mse\n",
    "summary['dv_meaning'] = dvs_explain"
   ]
  },
  {
   "cell_type": "code",
   "execution_count": 42,
   "metadata": {},
   "outputs": [
    {
     "output_type": "execute_result",
     "data": {
      "text/plain": "                effect  cohensd  std_mean_diff  pearsons_r problem_type  \\\n0          anchoringNY  1.15905     2847.56614     0.50131          reg   \n1     anchoringChicago  1.77999  1033554.90135     0.66481          reg   \n2   anchoringMtEverest  2.29785    11846.76164     0.75431          reg   \n3      anchoringBabies  2.18582     3202.95080     0.73748          reg   \n4     allowedforbidden  1.96363        0.61604    -0.70064        class   \n5      gamblersfallacy  0.62590        0.74034     0.29740          reg   \n6      gainlossframing  0.59908        0.09183    -0.28697        class   \n7        mathattitudes  0.53339        0.78257     0.24199          reg   \n8      low/high scales  0.49686        0.04829    -0.24092        class   \n9     quoteattribution  0.32167        3.53730    -0.15877          reg   \n10         reciprocity  0.29691        1.05601     0.14684        class   \n11            sunkcost  0.27229        4.62568    -0.13488          reg   \n12     imaginedcontact  0.12698        2.09677     0.06337          reg   \n13         flagpriming  0.02818        0.00356     0.01409          reg   \n14     currencypriming  0.01979        0.01380    -0.00990          reg   \n\n        reg_coef  reg_perc_acc  reg_r2  reg_pval  cv_mean_acc  cv_mean_r2  \\\n0     1143.20716           nan 0.25131   0.00000          nan     0.25381   \n1  1964484.41985           nan 0.44198   0.00000          nan     0.45383   \n2    22652.04180           nan 0.56898   0.00000          nan     0.56915   \n3    23497.38255           nan 0.54387   0.00000          nan     0.54892   \n4       -3.72006       0.84584     nan   0.00000      0.83265         nan   \n5        1.69587           nan 0.08845   0.00000          nan     0.07555   \n6       -1.18267       0.64312     nan   0.00000      0.64389         nan   \n7        0.25912           nan 0.05856   0.00000          nan     0.04399   \n8       -1.44210       0.84472     nan   0.00000      0.86555         nan   \n9       -0.69527           nan 0.02521   0.00000          nan     0.01810   \n10       0.65453       0.70491     nan   0.00000      0.69077         nan   \n11      -0.60626           nan 0.01819   0.00000          nan    -0.01631   \n12       0.24608           nan 0.00402   0.00000          nan    -0.03647   \n13       0.02846           nan 0.00020   0.26526          nan    -0.06036   \n14      -0.01961           nan 0.00010   0.43105          nan    -0.07507   \n\n    cv_mean_mse                               dv_meaning  inv_cv_mean_acc  \\\n0     818.03605                          SF-NYC distance          0.51791   \n1  855862.23748                             Pop. Chicago          0.51245   \n2    8114.57440                       Height Mt. Everest          0.50920   \n3    7813.48390                      Babies born per day          0.52700   \n4           nan                                   Binary          0.84523   \n5       1.69756               Numer of times dice rolled          0.53373   \n6           nan                                   Binary          0.64325   \n7       0.39620                                IAT score          0.67789   \n8           nan                                   Binary          0.60232   \n9       1.73949               Agreement with quote (1-9)          0.53078   \n10          nan                                   Binary          0.56278   \n11      1.61474          Likelihood to attend game (1-9)          0.52517   \n12      1.59187  Aggregate willingness to interact (1-9)          0.50947   \n13      0.76784   Aggregate political conservatism (1-7)          0.50373   \n14      0.79170     Aggregate system justification (1-7)          0.49532   \n\n    random_cv_mean_acc  random_cv_mean_r2  random_cv_mean_mse  \\\n0                  nan            0.00398           952.50331   \n1                  nan            0.00306       1300676.43769   \n2                  nan           -0.00124         13519.15789   \n3                  nan            0.00090         14153.50319   \n4              0.58516                nan                 nan   \n5                  nan           -0.00129             1.79426   \n6              0.49435                nan                 nan   \n7                  nan            0.03929             0.39508   \n8              0.84486                nan                 nan   \n9                  nan           -0.00366             1.79595   \n10             0.70463                nan                 nan   \n11                 nan            0.01298             1.67624   \n12                 nan           -0.03895             1.60598   \n13                 nan           -0.01011             0.79358   \n14                 nan           -0.03900             0.80468   \n\n    random_best_score          random_best  \n0             0.00674  us_or_international  \n1             0.01364                  sex  \n2             0.00283        lab_or_online  \n3             0.00205  us_or_international  \n4             0.58519  us_or_international  \n5             0.00159                  sex  \n6             0.51969  us_or_international  \n7             0.05856                  sex  \n8             0.84489                  age  \n9             0.00517                  age  \n10            0.70506                  sex  \n11            0.04110                  age  \n12            0.00229                  sex  \n13            0.01864  us_or_international  \n14            0.01698  us_or_international  ",
      "text/html": "<div>\n<style scoped>\n    .dataframe tbody tr th:only-of-type {\n        vertical-align: middle;\n    }\n\n    .dataframe tbody tr th {\n        vertical-align: top;\n    }\n\n    .dataframe thead th {\n        text-align: right;\n    }\n</style>\n<table border=\"1\" class=\"dataframe\">\n  <thead>\n    <tr style=\"text-align: right;\">\n      <th></th>\n      <th>effect</th>\n      <th>cohensd</th>\n      <th>std_mean_diff</th>\n      <th>pearsons_r</th>\n      <th>problem_type</th>\n      <th>reg_coef</th>\n      <th>reg_perc_acc</th>\n      <th>reg_r2</th>\n      <th>reg_pval</th>\n      <th>cv_mean_acc</th>\n      <th>cv_mean_r2</th>\n      <th>cv_mean_mse</th>\n      <th>dv_meaning</th>\n      <th>inv_cv_mean_acc</th>\n      <th>random_cv_mean_acc</th>\n      <th>random_cv_mean_r2</th>\n      <th>random_cv_mean_mse</th>\n      <th>random_best_score</th>\n      <th>random_best</th>\n    </tr>\n  </thead>\n  <tbody>\n    <tr>\n      <th>0</th>\n      <td>anchoringNY</td>\n      <td>1.15905</td>\n      <td>2847.56614</td>\n      <td>0.50131</td>\n      <td>reg</td>\n      <td>1143.20716</td>\n      <td>nan</td>\n      <td>0.25131</td>\n      <td>0.00000</td>\n      <td>nan</td>\n      <td>0.25381</td>\n      <td>818.03605</td>\n      <td>SF-NYC distance</td>\n      <td>0.51791</td>\n      <td>nan</td>\n      <td>0.00398</td>\n      <td>952.50331</td>\n      <td>0.00674</td>\n      <td>us_or_international</td>\n    </tr>\n    <tr>\n      <th>1</th>\n      <td>anchoringChicago</td>\n      <td>1.77999</td>\n      <td>1033554.90135</td>\n      <td>0.66481</td>\n      <td>reg</td>\n      <td>1964484.41985</td>\n      <td>nan</td>\n      <td>0.44198</td>\n      <td>0.00000</td>\n      <td>nan</td>\n      <td>0.45383</td>\n      <td>855862.23748</td>\n      <td>Pop. Chicago</td>\n      <td>0.51245</td>\n      <td>nan</td>\n      <td>0.00306</td>\n      <td>1300676.43769</td>\n      <td>0.01364</td>\n      <td>sex</td>\n    </tr>\n    <tr>\n      <th>2</th>\n      <td>anchoringMtEverest</td>\n      <td>2.29785</td>\n      <td>11846.76164</td>\n      <td>0.75431</td>\n      <td>reg</td>\n      <td>22652.04180</td>\n      <td>nan</td>\n      <td>0.56898</td>\n      <td>0.00000</td>\n      <td>nan</td>\n      <td>0.56915</td>\n      <td>8114.57440</td>\n      <td>Height Mt. Everest</td>\n      <td>0.50920</td>\n      <td>nan</td>\n      <td>-0.00124</td>\n      <td>13519.15789</td>\n      <td>0.00283</td>\n      <td>lab_or_online</td>\n    </tr>\n    <tr>\n      <th>3</th>\n      <td>anchoringBabies</td>\n      <td>2.18582</td>\n      <td>3202.95080</td>\n      <td>0.73748</td>\n      <td>reg</td>\n      <td>23497.38255</td>\n      <td>nan</td>\n      <td>0.54387</td>\n      <td>0.00000</td>\n      <td>nan</td>\n      <td>0.54892</td>\n      <td>7813.48390</td>\n      <td>Babies born per day</td>\n      <td>0.52700</td>\n      <td>nan</td>\n      <td>0.00090</td>\n      <td>14153.50319</td>\n      <td>0.00205</td>\n      <td>us_or_international</td>\n    </tr>\n    <tr>\n      <th>4</th>\n      <td>allowedforbidden</td>\n      <td>1.96363</td>\n      <td>0.61604</td>\n      <td>-0.70064</td>\n      <td>class</td>\n      <td>-3.72006</td>\n      <td>0.84584</td>\n      <td>nan</td>\n      <td>0.00000</td>\n      <td>0.83265</td>\n      <td>nan</td>\n      <td>nan</td>\n      <td>Binary</td>\n      <td>0.84523</td>\n      <td>0.58516</td>\n      <td>nan</td>\n      <td>nan</td>\n      <td>0.58519</td>\n      <td>us_or_international</td>\n    </tr>\n    <tr>\n      <th>5</th>\n      <td>gamblersfallacy</td>\n      <td>0.62590</td>\n      <td>0.74034</td>\n      <td>0.29740</td>\n      <td>reg</td>\n      <td>1.69587</td>\n      <td>nan</td>\n      <td>0.08845</td>\n      <td>0.00000</td>\n      <td>nan</td>\n      <td>0.07555</td>\n      <td>1.69756</td>\n      <td>Numer of times dice rolled</td>\n      <td>0.53373</td>\n      <td>nan</td>\n      <td>-0.00129</td>\n      <td>1.79426</td>\n      <td>0.00159</td>\n      <td>sex</td>\n    </tr>\n    <tr>\n      <th>6</th>\n      <td>gainlossframing</td>\n      <td>0.59908</td>\n      <td>0.09183</td>\n      <td>-0.28697</td>\n      <td>class</td>\n      <td>-1.18267</td>\n      <td>0.64312</td>\n      <td>nan</td>\n      <td>0.00000</td>\n      <td>0.64389</td>\n      <td>nan</td>\n      <td>nan</td>\n      <td>Binary</td>\n      <td>0.64325</td>\n      <td>0.49435</td>\n      <td>nan</td>\n      <td>nan</td>\n      <td>0.51969</td>\n      <td>us_or_international</td>\n    </tr>\n    <tr>\n      <th>7</th>\n      <td>mathattitudes</td>\n      <td>0.53339</td>\n      <td>0.78257</td>\n      <td>0.24199</td>\n      <td>reg</td>\n      <td>0.25912</td>\n      <td>nan</td>\n      <td>0.05856</td>\n      <td>0.00000</td>\n      <td>nan</td>\n      <td>0.04399</td>\n      <td>0.39620</td>\n      <td>IAT score</td>\n      <td>0.67789</td>\n      <td>nan</td>\n      <td>0.03929</td>\n      <td>0.39508</td>\n      <td>0.05856</td>\n      <td>sex</td>\n    </tr>\n    <tr>\n      <th>8</th>\n      <td>low/high scales</td>\n      <td>0.49686</td>\n      <td>0.04829</td>\n      <td>-0.24092</td>\n      <td>class</td>\n      <td>-1.44210</td>\n      <td>0.84472</td>\n      <td>nan</td>\n      <td>0.00000</td>\n      <td>0.86555</td>\n      <td>nan</td>\n      <td>nan</td>\n      <td>Binary</td>\n      <td>0.60232</td>\n      <td>0.84486</td>\n      <td>nan</td>\n      <td>nan</td>\n      <td>0.84489</td>\n      <td>age</td>\n    </tr>\n    <tr>\n      <th>9</th>\n      <td>quoteattribution</td>\n      <td>0.32167</td>\n      <td>3.53730</td>\n      <td>-0.15877</td>\n      <td>reg</td>\n      <td>-0.69527</td>\n      <td>nan</td>\n      <td>0.02521</td>\n      <td>0.00000</td>\n      <td>nan</td>\n      <td>0.01810</td>\n      <td>1.73949</td>\n      <td>Agreement with quote (1-9)</td>\n      <td>0.53078</td>\n      <td>nan</td>\n      <td>-0.00366</td>\n      <td>1.79595</td>\n      <td>0.00517</td>\n      <td>age</td>\n    </tr>\n    <tr>\n      <th>10</th>\n      <td>reciprocity</td>\n      <td>0.29691</td>\n      <td>1.05601</td>\n      <td>0.14684</td>\n      <td>class</td>\n      <td>0.65453</td>\n      <td>0.70491</td>\n      <td>nan</td>\n      <td>0.00000</td>\n      <td>0.69077</td>\n      <td>nan</td>\n      <td>nan</td>\n      <td>Binary</td>\n      <td>0.56278</td>\n      <td>0.70463</td>\n      <td>nan</td>\n      <td>nan</td>\n      <td>0.70506</td>\n      <td>sex</td>\n    </tr>\n    <tr>\n      <th>11</th>\n      <td>sunkcost</td>\n      <td>0.27229</td>\n      <td>4.62568</td>\n      <td>-0.13488</td>\n      <td>reg</td>\n      <td>-0.60626</td>\n      <td>nan</td>\n      <td>0.01819</td>\n      <td>0.00000</td>\n      <td>nan</td>\n      <td>-0.01631</td>\n      <td>1.61474</td>\n      <td>Likelihood to attend game (1-9)</td>\n      <td>0.52517</td>\n      <td>nan</td>\n      <td>0.01298</td>\n      <td>1.67624</td>\n      <td>0.04110</td>\n      <td>age</td>\n    </tr>\n    <tr>\n      <th>12</th>\n      <td>imaginedcontact</td>\n      <td>0.12698</td>\n      <td>2.09677</td>\n      <td>0.06337</td>\n      <td>reg</td>\n      <td>0.24608</td>\n      <td>nan</td>\n      <td>0.00402</td>\n      <td>0.00000</td>\n      <td>nan</td>\n      <td>-0.03647</td>\n      <td>1.59187</td>\n      <td>Aggregate willingness to interact (1-9)</td>\n      <td>0.50947</td>\n      <td>nan</td>\n      <td>-0.03895</td>\n      <td>1.60598</td>\n      <td>0.00229</td>\n      <td>sex</td>\n    </tr>\n    <tr>\n      <th>13</th>\n      <td>flagpriming</td>\n      <td>0.02818</td>\n      <td>0.00356</td>\n      <td>0.01409</td>\n      <td>reg</td>\n      <td>0.02846</td>\n      <td>nan</td>\n      <td>0.00020</td>\n      <td>0.26526</td>\n      <td>nan</td>\n      <td>-0.06036</td>\n      <td>0.76784</td>\n      <td>Aggregate political conservatism (1-7)</td>\n      <td>0.50373</td>\n      <td>nan</td>\n      <td>-0.01011</td>\n      <td>0.79358</td>\n      <td>0.01864</td>\n      <td>us_or_international</td>\n    </tr>\n    <tr>\n      <th>14</th>\n      <td>currencypriming</td>\n      <td>0.01979</td>\n      <td>0.01380</td>\n      <td>-0.00990</td>\n      <td>reg</td>\n      <td>-0.01961</td>\n      <td>nan</td>\n      <td>0.00010</td>\n      <td>0.43105</td>\n      <td>nan</td>\n      <td>-0.07507</td>\n      <td>0.79170</td>\n      <td>Aggregate system justification (1-7)</td>\n      <td>0.49532</td>\n      <td>nan</td>\n      <td>-0.03900</td>\n      <td>0.80468</td>\n      <td>0.01698</td>\n      <td>us_or_international</td>\n    </tr>\n  </tbody>\n</table>\n</div>"
     },
     "metadata": {},
     "execution_count": 42
    }
   ],
   "source": [
    "summary"
   ]
  },
  {
   "cell_type": "markdown",
   "metadata": {},
   "source": [
    "### Reverse prediction\n",
    "How well can we predict the condition/group, based on values in the dependent variable?"
   ]
  },
  {
   "cell_type": "code",
   "execution_count": 43,
   "metadata": {
    "tags": []
   },
   "outputs": [],
   "source": [
    "inv_cv_mean_acc = []\n",
    "\n",
    "for idx in range(len(grps)):\n",
    "    X, y, grp = split_data(grps[idx], dvs[idx])\n",
    "    X = (X.squeeze() == np.unique(X)[0]) * 1\n",
    "    y = (y == np.unique(y)[0]) * 1\n",
    "    cv_scores = cross_validate(estimator=est_log, X=y.reshape(-1,1), y=X, groups=grp, cv=gkfolds)\n",
    "    perc_acc = cv_scores['test_score'].mean()\n",
    "    inv_cv_mean_acc.append(perc_acc)\n",
    "\n",
    "summary['inv_cv_mean_acc'] = inv_cv_mean_acc"
   ]
  },
  {
   "cell_type": "markdown",
   "metadata": {},
   "source": [
    "### Random CV prediction\n",
    "How well can we predict DVs using cross-validation, if we use the best performing random variable?"
   ]
  },
  {
   "cell_type": "code",
   "execution_count": 44,
   "metadata": {
    "tags": []
   },
   "outputs": [],
   "source": [
    "cv_mean_r2, cv_mean_mse, cv_mean_acc = [], [], []\n",
    "\n",
    "for idx in range(len(grps)):\n",
    "    X, y, grp = split_data(random_best[idx], dvs[idx])\n",
    "    if reg_vs_class[idx] == 'class':\n",
    "        cv_scores = cross_validate(est_log, X, y, grp, cv=gkfolds)\n",
    "        mean_r2 = np.nan\n",
    "        mean_mse = np.nan\n",
    "        perc_acc = cv_scores['test_score'].mean()\n",
    "    else:\n",
    "        cv_scores = cross_validate(est_lr, X, y, grp, cv=gkfolds, \n",
    "                                   scoring=('r2', 'neg_mean_absolute_error'))\n",
    "        mean_r2 = cv_scores['test_r2'].mean()\n",
    "        mean_mse = abs(cv_scores['test_neg_mean_absolute_error']).mean()\n",
    "        perc_acc = np.nan\n",
    "    cv_mean_acc.append(perc_acc)\n",
    "    cv_mean_r2.append(mean_r2)\n",
    "    cv_mean_mse.append(mean_mse)\n",
    "\n",
    "summary['random_cv_mean_acc'] = cv_mean_acc\n",
    "summary['random_cv_mean_r2'] = cv_mean_r2\n",
    "summary['random_cv_mean_mse'] = cv_mean_mse\n",
    "summary['random_best_score'] = random_best_score\n",
    "summary['random_best'] = random_best"
   ]
  },
  {
   "cell_type": "code",
   "execution_count": 45,
   "metadata": {},
   "outputs": [
    {
     "output_type": "execute_result",
     "data": {
      "text/plain": "                effect  cohensd  std_mean_diff  pearsons_r problem_type  \\\n0          anchoringNY  1.15905     2847.56614     0.50131          reg   \n1     anchoringChicago  1.77999  1033554.90135     0.66481          reg   \n2   anchoringMtEverest  2.29785    11846.76164     0.75431          reg   \n3      anchoringBabies  2.18582     3202.95080     0.73748          reg   \n4     allowedforbidden  1.96363        0.61604    -0.70064        class   \n5      gamblersfallacy  0.62590        0.74034     0.29740          reg   \n6      gainlossframing  0.59908        0.09183    -0.28697        class   \n7        mathattitudes  0.53339        0.78257     0.24199          reg   \n8      low/high scales  0.49686        0.04829    -0.24092        class   \n9     quoteattribution  0.32167        3.53730    -0.15877          reg   \n10         reciprocity  0.29691        1.05601     0.14684        class   \n11            sunkcost  0.27229        4.62568    -0.13488          reg   \n12     imaginedcontact  0.12698        2.09677     0.06337          reg   \n13         flagpriming  0.02818        0.00356     0.01409          reg   \n14     currencypriming  0.01979        0.01380    -0.00990          reg   \n\n        reg_coef  reg_perc_acc  reg_r2  reg_pval  cv_mean_acc  cv_mean_r2  \\\n0     1143.20716           nan 0.25131   0.00000          nan     0.25381   \n1  1964484.41985           nan 0.44198   0.00000          nan     0.45383   \n2    22652.04180           nan 0.56898   0.00000          nan     0.56915   \n3    23497.38255           nan 0.54387   0.00000          nan     0.54892   \n4       -3.72006       0.84584     nan   0.00000      0.83265         nan   \n5        1.69587           nan 0.08845   0.00000          nan     0.07555   \n6       -1.18267       0.64312     nan   0.00000      0.64389         nan   \n7        0.25912           nan 0.05856   0.00000          nan     0.04399   \n8       -1.44210       0.84472     nan   0.00000      0.86555         nan   \n9       -0.69527           nan 0.02521   0.00000          nan     0.01810   \n10       0.65453       0.70491     nan   0.00000      0.69077         nan   \n11      -0.60626           nan 0.01819   0.00000          nan    -0.01631   \n12       0.24608           nan 0.00402   0.00000          nan    -0.03647   \n13       0.02846           nan 0.00020   0.26526          nan    -0.06036   \n14      -0.01961           nan 0.00010   0.43105          nan    -0.07507   \n\n    cv_mean_mse                               dv_meaning  inv_cv_mean_acc  \\\n0     818.03605                          SF-NYC distance          0.51916   \n1  855862.23748                             Pop. Chicago          0.50830   \n2    8114.57440                       Height Mt. Everest          0.51016   \n3    7813.48390                      Babies born per day          0.52372   \n4           nan                                   Binary          0.83265   \n5       1.69756               Numer of times dice rolled          0.54361   \n6           nan                                   Binary          0.64389   \n7       0.39620                                IAT score          0.69560   \n8           nan                                   Binary          0.59871   \n9       1.73949               Agreement with quote (1-9)          0.53023   \n10          nan                                   Binary          0.56358   \n11      1.61474          Likelihood to attend game (1-9)          0.52241   \n12      1.59187  Aggregate willingness to interact (1-9)          0.51056   \n13      0.76784   Aggregate political conservatism (1-7)          0.50261   \n14      0.79170     Aggregate system justification (1-7)          0.49092   \n\n    random_cv_mean_acc  random_cv_mean_r2  random_cv_mean_mse  \\\n0                  nan            0.00115           978.73558   \n1                  nan           -0.00104       1321509.75255   \n2                  nan           -0.00353         13688.27567   \n3                  nan           -0.00139         14242.49668   \n4              0.58751                nan                 nan   \n5                  nan           -0.00281             1.78726   \n6              0.50203                nan                 nan   \n7                  nan            0.04399             0.39620   \n8              0.86522                nan                 nan   \n9                  nan           -0.00635             1.78108   \n10             0.69051                nan                 nan   \n11                 nan            0.00444             1.58308   \n12                 nan           -0.03897             1.58788   \n13                 nan           -0.03506             0.75536   \n14                 nan           -0.06945             0.78644   \n\n    random_best_score          random_best  \n0             0.00674  us_or_international  \n1             0.01364                  sex  \n2             0.00283        lab_or_online  \n3             0.00205  us_or_international  \n4             0.58519  us_or_international  \n5             0.00159                  sex  \n6             0.51969  us_or_international  \n7             0.05856                  sex  \n8             0.84489                  age  \n9             0.00517                  age  \n10            0.70506                  sex  \n11            0.04110                  age  \n12            0.00229                  sex  \n13            0.01864  us_or_international  \n14            0.01698  us_or_international  ",
      "text/html": "<div>\n<style scoped>\n    .dataframe tbody tr th:only-of-type {\n        vertical-align: middle;\n    }\n\n    .dataframe tbody tr th {\n        vertical-align: top;\n    }\n\n    .dataframe thead th {\n        text-align: right;\n    }\n</style>\n<table border=\"1\" class=\"dataframe\">\n  <thead>\n    <tr style=\"text-align: right;\">\n      <th></th>\n      <th>effect</th>\n      <th>cohensd</th>\n      <th>std_mean_diff</th>\n      <th>pearsons_r</th>\n      <th>problem_type</th>\n      <th>reg_coef</th>\n      <th>reg_perc_acc</th>\n      <th>reg_r2</th>\n      <th>reg_pval</th>\n      <th>cv_mean_acc</th>\n      <th>cv_mean_r2</th>\n      <th>cv_mean_mse</th>\n      <th>dv_meaning</th>\n      <th>inv_cv_mean_acc</th>\n      <th>random_cv_mean_acc</th>\n      <th>random_cv_mean_r2</th>\n      <th>random_cv_mean_mse</th>\n      <th>random_best_score</th>\n      <th>random_best</th>\n    </tr>\n  </thead>\n  <tbody>\n    <tr>\n      <th>0</th>\n      <td>anchoringNY</td>\n      <td>1.15905</td>\n      <td>2847.56614</td>\n      <td>0.50131</td>\n      <td>reg</td>\n      <td>1143.20716</td>\n      <td>nan</td>\n      <td>0.25131</td>\n      <td>0.00000</td>\n      <td>nan</td>\n      <td>0.25381</td>\n      <td>818.03605</td>\n      <td>SF-NYC distance</td>\n      <td>0.51916</td>\n      <td>nan</td>\n      <td>0.00115</td>\n      <td>978.73558</td>\n      <td>0.00674</td>\n      <td>us_or_international</td>\n    </tr>\n    <tr>\n      <th>1</th>\n      <td>anchoringChicago</td>\n      <td>1.77999</td>\n      <td>1033554.90135</td>\n      <td>0.66481</td>\n      <td>reg</td>\n      <td>1964484.41985</td>\n      <td>nan</td>\n      <td>0.44198</td>\n      <td>0.00000</td>\n      <td>nan</td>\n      <td>0.45383</td>\n      <td>855862.23748</td>\n      <td>Pop. Chicago</td>\n      <td>0.50830</td>\n      <td>nan</td>\n      <td>-0.00104</td>\n      <td>1321509.75255</td>\n      <td>0.01364</td>\n      <td>sex</td>\n    </tr>\n    <tr>\n      <th>2</th>\n      <td>anchoringMtEverest</td>\n      <td>2.29785</td>\n      <td>11846.76164</td>\n      <td>0.75431</td>\n      <td>reg</td>\n      <td>22652.04180</td>\n      <td>nan</td>\n      <td>0.56898</td>\n      <td>0.00000</td>\n      <td>nan</td>\n      <td>0.56915</td>\n      <td>8114.57440</td>\n      <td>Height Mt. Everest</td>\n      <td>0.51016</td>\n      <td>nan</td>\n      <td>-0.00353</td>\n      <td>13688.27567</td>\n      <td>0.00283</td>\n      <td>lab_or_online</td>\n    </tr>\n    <tr>\n      <th>3</th>\n      <td>anchoringBabies</td>\n      <td>2.18582</td>\n      <td>3202.95080</td>\n      <td>0.73748</td>\n      <td>reg</td>\n      <td>23497.38255</td>\n      <td>nan</td>\n      <td>0.54387</td>\n      <td>0.00000</td>\n      <td>nan</td>\n      <td>0.54892</td>\n      <td>7813.48390</td>\n      <td>Babies born per day</td>\n      <td>0.52372</td>\n      <td>nan</td>\n      <td>-0.00139</td>\n      <td>14242.49668</td>\n      <td>0.00205</td>\n      <td>us_or_international</td>\n    </tr>\n    <tr>\n      <th>4</th>\n      <td>allowedforbidden</td>\n      <td>1.96363</td>\n      <td>0.61604</td>\n      <td>-0.70064</td>\n      <td>class</td>\n      <td>-3.72006</td>\n      <td>0.84584</td>\n      <td>nan</td>\n      <td>0.00000</td>\n      <td>0.83265</td>\n      <td>nan</td>\n      <td>nan</td>\n      <td>Binary</td>\n      <td>0.83265</td>\n      <td>0.58751</td>\n      <td>nan</td>\n      <td>nan</td>\n      <td>0.58519</td>\n      <td>us_or_international</td>\n    </tr>\n    <tr>\n      <th>5</th>\n      <td>gamblersfallacy</td>\n      <td>0.62590</td>\n      <td>0.74034</td>\n      <td>0.29740</td>\n      <td>reg</td>\n      <td>1.69587</td>\n      <td>nan</td>\n      <td>0.08845</td>\n      <td>0.00000</td>\n      <td>nan</td>\n      <td>0.07555</td>\n      <td>1.69756</td>\n      <td>Numer of times dice rolled</td>\n      <td>0.54361</td>\n      <td>nan</td>\n      <td>-0.00281</td>\n      <td>1.78726</td>\n      <td>0.00159</td>\n      <td>sex</td>\n    </tr>\n    <tr>\n      <th>6</th>\n      <td>gainlossframing</td>\n      <td>0.59908</td>\n      <td>0.09183</td>\n      <td>-0.28697</td>\n      <td>class</td>\n      <td>-1.18267</td>\n      <td>0.64312</td>\n      <td>nan</td>\n      <td>0.00000</td>\n      <td>0.64389</td>\n      <td>nan</td>\n      <td>nan</td>\n      <td>Binary</td>\n      <td>0.64389</td>\n      <td>0.50203</td>\n      <td>nan</td>\n      <td>nan</td>\n      <td>0.51969</td>\n      <td>us_or_international</td>\n    </tr>\n    <tr>\n      <th>7</th>\n      <td>mathattitudes</td>\n      <td>0.53339</td>\n      <td>0.78257</td>\n      <td>0.24199</td>\n      <td>reg</td>\n      <td>0.25912</td>\n      <td>nan</td>\n      <td>0.05856</td>\n      <td>0.00000</td>\n      <td>nan</td>\n      <td>0.04399</td>\n      <td>0.39620</td>\n      <td>IAT score</td>\n      <td>0.69560</td>\n      <td>nan</td>\n      <td>0.04399</td>\n      <td>0.39620</td>\n      <td>0.05856</td>\n      <td>sex</td>\n    </tr>\n    <tr>\n      <th>8</th>\n      <td>low/high scales</td>\n      <td>0.49686</td>\n      <td>0.04829</td>\n      <td>-0.24092</td>\n      <td>class</td>\n      <td>-1.44210</td>\n      <td>0.84472</td>\n      <td>nan</td>\n      <td>0.00000</td>\n      <td>0.86555</td>\n      <td>nan</td>\n      <td>nan</td>\n      <td>Binary</td>\n      <td>0.59871</td>\n      <td>0.86522</td>\n      <td>nan</td>\n      <td>nan</td>\n      <td>0.84489</td>\n      <td>age</td>\n    </tr>\n    <tr>\n      <th>9</th>\n      <td>quoteattribution</td>\n      <td>0.32167</td>\n      <td>3.53730</td>\n      <td>-0.15877</td>\n      <td>reg</td>\n      <td>-0.69527</td>\n      <td>nan</td>\n      <td>0.02521</td>\n      <td>0.00000</td>\n      <td>nan</td>\n      <td>0.01810</td>\n      <td>1.73949</td>\n      <td>Agreement with quote (1-9)</td>\n      <td>0.53023</td>\n      <td>nan</td>\n      <td>-0.00635</td>\n      <td>1.78108</td>\n      <td>0.00517</td>\n      <td>age</td>\n    </tr>\n    <tr>\n      <th>10</th>\n      <td>reciprocity</td>\n      <td>0.29691</td>\n      <td>1.05601</td>\n      <td>0.14684</td>\n      <td>class</td>\n      <td>0.65453</td>\n      <td>0.70491</td>\n      <td>nan</td>\n      <td>0.00000</td>\n      <td>0.69077</td>\n      <td>nan</td>\n      <td>nan</td>\n      <td>Binary</td>\n      <td>0.56358</td>\n      <td>0.69051</td>\n      <td>nan</td>\n      <td>nan</td>\n      <td>0.70506</td>\n      <td>sex</td>\n    </tr>\n    <tr>\n      <th>11</th>\n      <td>sunkcost</td>\n      <td>0.27229</td>\n      <td>4.62568</td>\n      <td>-0.13488</td>\n      <td>reg</td>\n      <td>-0.60626</td>\n      <td>nan</td>\n      <td>0.01819</td>\n      <td>0.00000</td>\n      <td>nan</td>\n      <td>-0.01631</td>\n      <td>1.61474</td>\n      <td>Likelihood to attend game (1-9)</td>\n      <td>0.52241</td>\n      <td>nan</td>\n      <td>0.00444</td>\n      <td>1.58308</td>\n      <td>0.04110</td>\n      <td>age</td>\n    </tr>\n    <tr>\n      <th>12</th>\n      <td>imaginedcontact</td>\n      <td>0.12698</td>\n      <td>2.09677</td>\n      <td>0.06337</td>\n      <td>reg</td>\n      <td>0.24608</td>\n      <td>nan</td>\n      <td>0.00402</td>\n      <td>0.00000</td>\n      <td>nan</td>\n      <td>-0.03647</td>\n      <td>1.59187</td>\n      <td>Aggregate willingness to interact (1-9)</td>\n      <td>0.51056</td>\n      <td>nan</td>\n      <td>-0.03897</td>\n      <td>1.58788</td>\n      <td>0.00229</td>\n      <td>sex</td>\n    </tr>\n    <tr>\n      <th>13</th>\n      <td>flagpriming</td>\n      <td>0.02818</td>\n      <td>0.00356</td>\n      <td>0.01409</td>\n      <td>reg</td>\n      <td>0.02846</td>\n      <td>nan</td>\n      <td>0.00020</td>\n      <td>0.26526</td>\n      <td>nan</td>\n      <td>-0.06036</td>\n      <td>0.76784</td>\n      <td>Aggregate political conservatism (1-7)</td>\n      <td>0.50261</td>\n      <td>nan</td>\n      <td>-0.03506</td>\n      <td>0.75536</td>\n      <td>0.01864</td>\n      <td>us_or_international</td>\n    </tr>\n    <tr>\n      <th>14</th>\n      <td>currencypriming</td>\n      <td>0.01979</td>\n      <td>0.01380</td>\n      <td>-0.00990</td>\n      <td>reg</td>\n      <td>-0.01961</td>\n      <td>nan</td>\n      <td>0.00010</td>\n      <td>0.43105</td>\n      <td>nan</td>\n      <td>-0.07507</td>\n      <td>0.79170</td>\n      <td>Aggregate system justification (1-7)</td>\n      <td>0.49092</td>\n      <td>nan</td>\n      <td>-0.06945</td>\n      <td>0.78644</td>\n      <td>0.01698</td>\n      <td>us_or_international</td>\n    </tr>\n  </tbody>\n</table>\n</div>"
     },
     "metadata": {},
     "execution_count": 45
    }
   ],
   "source": [
    "summary"
   ]
  },
  {
   "cell_type": "markdown",
   "metadata": {},
   "source": [
    "### Tidy up summary\n",
    "(Split regression and classification problems)"
   ]
  },
  {
   "cell_type": "code",
   "execution_count": 53,
   "metadata": {},
   "outputs": [],
   "source": [
    "summary_reg = summary[summary['problem_type'] == 'reg'].dropna(axis=1)\n",
    "summary_reg = summary_reg.rename({'random_best_score': 'random_reg_r2'}, axis=1)\n",
    "summary_class = summary[summary['problem_type'] == 'class'].dropna(axis=1).drop('dv_meaning', axis=1)\n",
    "summary_class = summary_class.rename({'random_best_score': 'random_reg_perc_acc'}, axis=1)"
   ]
  },
  {
   "cell_type": "markdown",
   "metadata": {},
   "source": [
    "### Regression problems summary"
   ]
  },
  {
   "cell_type": "code",
   "execution_count": 54,
   "metadata": {},
   "outputs": [
    {
     "output_type": "execute_result",
     "data": {
      "text/plain": "                effect  cohensd  std_mean_diff  pearsons_r problem_type  \\\n0          anchoringNY  1.15905     2847.56614     0.50131          reg   \n1     anchoringChicago  1.77999  1033554.90135     0.66481          reg   \n2   anchoringMtEverest  2.29785    11846.76164     0.75431          reg   \n3      anchoringBabies  2.18582     3202.95080     0.73748          reg   \n5      gamblersfallacy  0.62590        0.74034     0.29740          reg   \n7        mathattitudes  0.53339        0.78257     0.24199          reg   \n9     quoteattribution  0.32167        3.53730    -0.15877          reg   \n11            sunkcost  0.27229        4.62568    -0.13488          reg   \n12     imaginedcontact  0.12698        2.09677     0.06337          reg   \n13         flagpriming  0.02818        0.00356     0.01409          reg   \n14     currencypriming  0.01979        0.01380    -0.00990          reg   \n\n        reg_coef  reg_r2  reg_pval  cv_mean_r2  cv_mean_mse  \\\n0     1143.20716 0.25131   0.00000     0.25381    818.03605   \n1  1964484.41985 0.44198   0.00000     0.45383 855862.23748   \n2    22652.04180 0.56898   0.00000     0.56915   8114.57440   \n3    23497.38255 0.54387   0.00000     0.54892   7813.48390   \n5        1.69587 0.08845   0.00000     0.07555      1.69756   \n7        0.25912 0.05856   0.00000     0.04399      0.39620   \n9       -0.69527 0.02521   0.00000     0.01810      1.73949   \n11      -0.60626 0.01819   0.00000    -0.01631      1.61474   \n12       0.24608 0.00402   0.00000    -0.03647      1.59187   \n13       0.02846 0.00020   0.26526    -0.06036      0.76784   \n14      -0.01961 0.00010   0.43105    -0.07507      0.79170   \n\n                                 dv_meaning  inv_cv_mean_acc  \\\n0                           SF-NYC distance          0.51916   \n1                              Pop. Chicago          0.50830   \n2                        Height Mt. Everest          0.51016   \n3                       Babies born per day          0.52372   \n5                Numer of times dice rolled          0.54361   \n7                                 IAT score          0.69560   \n9                Agreement with quote (1-9)          0.53023   \n11          Likelihood to attend game (1-9)          0.52241   \n12  Aggregate willingness to interact (1-9)          0.51056   \n13   Aggregate political conservatism (1-7)          0.50261   \n14     Aggregate system justification (1-7)          0.49092   \n\n    random_cv_mean_r2  random_cv_mean_mse  random_reg_r2          random_best  \n0             0.00115           978.73558        0.00674  us_or_international  \n1            -0.00104       1321509.75255        0.01364                  sex  \n2            -0.00353         13688.27567        0.00283        lab_or_online  \n3            -0.00139         14242.49668        0.00205  us_or_international  \n5            -0.00281             1.78726        0.00159                  sex  \n7             0.04399             0.39620        0.05856                  sex  \n9            -0.00635             1.78108        0.00517                  age  \n11            0.00444             1.58308        0.04110                  age  \n12           -0.03897             1.58788        0.00229                  sex  \n13           -0.03506             0.75536        0.01864  us_or_international  \n14           -0.06945             0.78644        0.01698  us_or_international  ",
      "text/html": "<div>\n<style scoped>\n    .dataframe tbody tr th:only-of-type {\n        vertical-align: middle;\n    }\n\n    .dataframe tbody tr th {\n        vertical-align: top;\n    }\n\n    .dataframe thead th {\n        text-align: right;\n    }\n</style>\n<table border=\"1\" class=\"dataframe\">\n  <thead>\n    <tr style=\"text-align: right;\">\n      <th></th>\n      <th>effect</th>\n      <th>cohensd</th>\n      <th>std_mean_diff</th>\n      <th>pearsons_r</th>\n      <th>problem_type</th>\n      <th>reg_coef</th>\n      <th>reg_r2</th>\n      <th>reg_pval</th>\n      <th>cv_mean_r2</th>\n      <th>cv_mean_mse</th>\n      <th>dv_meaning</th>\n      <th>inv_cv_mean_acc</th>\n      <th>random_cv_mean_r2</th>\n      <th>random_cv_mean_mse</th>\n      <th>random_reg_r2</th>\n      <th>random_best</th>\n    </tr>\n  </thead>\n  <tbody>\n    <tr>\n      <th>0</th>\n      <td>anchoringNY</td>\n      <td>1.15905</td>\n      <td>2847.56614</td>\n      <td>0.50131</td>\n      <td>reg</td>\n      <td>1143.20716</td>\n      <td>0.25131</td>\n      <td>0.00000</td>\n      <td>0.25381</td>\n      <td>818.03605</td>\n      <td>SF-NYC distance</td>\n      <td>0.51916</td>\n      <td>0.00115</td>\n      <td>978.73558</td>\n      <td>0.00674</td>\n      <td>us_or_international</td>\n    </tr>\n    <tr>\n      <th>1</th>\n      <td>anchoringChicago</td>\n      <td>1.77999</td>\n      <td>1033554.90135</td>\n      <td>0.66481</td>\n      <td>reg</td>\n      <td>1964484.41985</td>\n      <td>0.44198</td>\n      <td>0.00000</td>\n      <td>0.45383</td>\n      <td>855862.23748</td>\n      <td>Pop. Chicago</td>\n      <td>0.50830</td>\n      <td>-0.00104</td>\n      <td>1321509.75255</td>\n      <td>0.01364</td>\n      <td>sex</td>\n    </tr>\n    <tr>\n      <th>2</th>\n      <td>anchoringMtEverest</td>\n      <td>2.29785</td>\n      <td>11846.76164</td>\n      <td>0.75431</td>\n      <td>reg</td>\n      <td>22652.04180</td>\n      <td>0.56898</td>\n      <td>0.00000</td>\n      <td>0.56915</td>\n      <td>8114.57440</td>\n      <td>Height Mt. Everest</td>\n      <td>0.51016</td>\n      <td>-0.00353</td>\n      <td>13688.27567</td>\n      <td>0.00283</td>\n      <td>lab_or_online</td>\n    </tr>\n    <tr>\n      <th>3</th>\n      <td>anchoringBabies</td>\n      <td>2.18582</td>\n      <td>3202.95080</td>\n      <td>0.73748</td>\n      <td>reg</td>\n      <td>23497.38255</td>\n      <td>0.54387</td>\n      <td>0.00000</td>\n      <td>0.54892</td>\n      <td>7813.48390</td>\n      <td>Babies born per day</td>\n      <td>0.52372</td>\n      <td>-0.00139</td>\n      <td>14242.49668</td>\n      <td>0.00205</td>\n      <td>us_or_international</td>\n    </tr>\n    <tr>\n      <th>5</th>\n      <td>gamblersfallacy</td>\n      <td>0.62590</td>\n      <td>0.74034</td>\n      <td>0.29740</td>\n      <td>reg</td>\n      <td>1.69587</td>\n      <td>0.08845</td>\n      <td>0.00000</td>\n      <td>0.07555</td>\n      <td>1.69756</td>\n      <td>Numer of times dice rolled</td>\n      <td>0.54361</td>\n      <td>-0.00281</td>\n      <td>1.78726</td>\n      <td>0.00159</td>\n      <td>sex</td>\n    </tr>\n    <tr>\n      <th>7</th>\n      <td>mathattitudes</td>\n      <td>0.53339</td>\n      <td>0.78257</td>\n      <td>0.24199</td>\n      <td>reg</td>\n      <td>0.25912</td>\n      <td>0.05856</td>\n      <td>0.00000</td>\n      <td>0.04399</td>\n      <td>0.39620</td>\n      <td>IAT score</td>\n      <td>0.69560</td>\n      <td>0.04399</td>\n      <td>0.39620</td>\n      <td>0.05856</td>\n      <td>sex</td>\n    </tr>\n    <tr>\n      <th>9</th>\n      <td>quoteattribution</td>\n      <td>0.32167</td>\n      <td>3.53730</td>\n      <td>-0.15877</td>\n      <td>reg</td>\n      <td>-0.69527</td>\n      <td>0.02521</td>\n      <td>0.00000</td>\n      <td>0.01810</td>\n      <td>1.73949</td>\n      <td>Agreement with quote (1-9)</td>\n      <td>0.53023</td>\n      <td>-0.00635</td>\n      <td>1.78108</td>\n      <td>0.00517</td>\n      <td>age</td>\n    </tr>\n    <tr>\n      <th>11</th>\n      <td>sunkcost</td>\n      <td>0.27229</td>\n      <td>4.62568</td>\n      <td>-0.13488</td>\n      <td>reg</td>\n      <td>-0.60626</td>\n      <td>0.01819</td>\n      <td>0.00000</td>\n      <td>-0.01631</td>\n      <td>1.61474</td>\n      <td>Likelihood to attend game (1-9)</td>\n      <td>0.52241</td>\n      <td>0.00444</td>\n      <td>1.58308</td>\n      <td>0.04110</td>\n      <td>age</td>\n    </tr>\n    <tr>\n      <th>12</th>\n      <td>imaginedcontact</td>\n      <td>0.12698</td>\n      <td>2.09677</td>\n      <td>0.06337</td>\n      <td>reg</td>\n      <td>0.24608</td>\n      <td>0.00402</td>\n      <td>0.00000</td>\n      <td>-0.03647</td>\n      <td>1.59187</td>\n      <td>Aggregate willingness to interact (1-9)</td>\n      <td>0.51056</td>\n      <td>-0.03897</td>\n      <td>1.58788</td>\n      <td>0.00229</td>\n      <td>sex</td>\n    </tr>\n    <tr>\n      <th>13</th>\n      <td>flagpriming</td>\n      <td>0.02818</td>\n      <td>0.00356</td>\n      <td>0.01409</td>\n      <td>reg</td>\n      <td>0.02846</td>\n      <td>0.00020</td>\n      <td>0.26526</td>\n      <td>-0.06036</td>\n      <td>0.76784</td>\n      <td>Aggregate political conservatism (1-7)</td>\n      <td>0.50261</td>\n      <td>-0.03506</td>\n      <td>0.75536</td>\n      <td>0.01864</td>\n      <td>us_or_international</td>\n    </tr>\n    <tr>\n      <th>14</th>\n      <td>currencypriming</td>\n      <td>0.01979</td>\n      <td>0.01380</td>\n      <td>-0.00990</td>\n      <td>reg</td>\n      <td>-0.01961</td>\n      <td>0.00010</td>\n      <td>0.43105</td>\n      <td>-0.07507</td>\n      <td>0.79170</td>\n      <td>Aggregate system justification (1-7)</td>\n      <td>0.49092</td>\n      <td>-0.06945</td>\n      <td>0.78644</td>\n      <td>0.01698</td>\n      <td>us_or_international</td>\n    </tr>\n  </tbody>\n</table>\n</div>"
     },
     "metadata": {},
     "execution_count": 54
    }
   ],
   "source": [
    "summary_reg"
   ]
  },
  {
   "cell_type": "markdown",
   "metadata": {},
   "source": [
    "### Classification problems summary"
   ]
  },
  {
   "cell_type": "code",
   "execution_count": 55,
   "metadata": {},
   "outputs": [
    {
     "output_type": "execute_result",
     "data": {
      "text/plain": "              effect  cohensd  std_mean_diff  pearsons_r problem_type  \\\n4   allowedforbidden  1.96363        0.61604    -0.70064        class   \n6    gainlossframing  0.59908        0.09183    -0.28697        class   \n8    low/high scales  0.49686        0.04829    -0.24092        class   \n10       reciprocity  0.29691        1.05601     0.14684        class   \n\n    reg_coef  reg_perc_acc  reg_pval  cv_mean_acc  inv_cv_mean_acc  \\\n4   -3.72006       0.84584   0.00000      0.83265          0.83265   \n6   -1.18267       0.64312   0.00000      0.64389          0.64389   \n8   -1.44210       0.84472   0.00000      0.86555          0.59871   \n10   0.65453       0.70491   0.00000      0.69077          0.56358   \n\n    random_cv_mean_acc  random_reg_perc_acc          random_best  \n4              0.58751              0.58519  us_or_international  \n6              0.50203              0.51969  us_or_international  \n8              0.86522              0.84489                  age  \n10             0.69051              0.70506                  sex  ",
      "text/html": "<div>\n<style scoped>\n    .dataframe tbody tr th:only-of-type {\n        vertical-align: middle;\n    }\n\n    .dataframe tbody tr th {\n        vertical-align: top;\n    }\n\n    .dataframe thead th {\n        text-align: right;\n    }\n</style>\n<table border=\"1\" class=\"dataframe\">\n  <thead>\n    <tr style=\"text-align: right;\">\n      <th></th>\n      <th>effect</th>\n      <th>cohensd</th>\n      <th>std_mean_diff</th>\n      <th>pearsons_r</th>\n      <th>problem_type</th>\n      <th>reg_coef</th>\n      <th>reg_perc_acc</th>\n      <th>reg_pval</th>\n      <th>cv_mean_acc</th>\n      <th>inv_cv_mean_acc</th>\n      <th>random_cv_mean_acc</th>\n      <th>random_reg_perc_acc</th>\n      <th>random_best</th>\n    </tr>\n  </thead>\n  <tbody>\n    <tr>\n      <th>4</th>\n      <td>allowedforbidden</td>\n      <td>1.96363</td>\n      <td>0.61604</td>\n      <td>-0.70064</td>\n      <td>class</td>\n      <td>-3.72006</td>\n      <td>0.84584</td>\n      <td>0.00000</td>\n      <td>0.83265</td>\n      <td>0.83265</td>\n      <td>0.58751</td>\n      <td>0.58519</td>\n      <td>us_or_international</td>\n    </tr>\n    <tr>\n      <th>6</th>\n      <td>gainlossframing</td>\n      <td>0.59908</td>\n      <td>0.09183</td>\n      <td>-0.28697</td>\n      <td>class</td>\n      <td>-1.18267</td>\n      <td>0.64312</td>\n      <td>0.00000</td>\n      <td>0.64389</td>\n      <td>0.64389</td>\n      <td>0.50203</td>\n      <td>0.51969</td>\n      <td>us_or_international</td>\n    </tr>\n    <tr>\n      <th>8</th>\n      <td>low/high scales</td>\n      <td>0.49686</td>\n      <td>0.04829</td>\n      <td>-0.24092</td>\n      <td>class</td>\n      <td>-1.44210</td>\n      <td>0.84472</td>\n      <td>0.00000</td>\n      <td>0.86555</td>\n      <td>0.59871</td>\n      <td>0.86522</td>\n      <td>0.84489</td>\n      <td>age</td>\n    </tr>\n    <tr>\n      <th>10</th>\n      <td>reciprocity</td>\n      <td>0.29691</td>\n      <td>1.05601</td>\n      <td>0.14684</td>\n      <td>class</td>\n      <td>0.65453</td>\n      <td>0.70491</td>\n      <td>0.00000</td>\n      <td>0.69077</td>\n      <td>0.56358</td>\n      <td>0.69051</td>\n      <td>0.70506</td>\n      <td>sex</td>\n    </tr>\n  </tbody>\n</table>\n</div>"
     },
     "metadata": {},
     "execution_count": 55
    }
   ],
   "source": [
    "summary_class"
   ]
  },
  {
   "cell_type": "markdown",
   "metadata": {},
   "source": [
    "### To dos\n",
    "- Get all error\n",
    "- Opt: anchoring back to Rank?; point-wise prediction accuracy for LogReg?"
   ]
  }
 ]
}